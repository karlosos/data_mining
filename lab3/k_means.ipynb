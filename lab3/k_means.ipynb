{
 "cells": [
  {
   "cell_type": "markdown",
   "metadata": {},
   "source": [
    "# k-means\n",
    "\n",
    "Zaimplementować swoją klasteryzację k-means i porównać ją z metodami wbudowanymi.\n",
    "https://stanford.edu/~cpiech/cs221/handouts/kmeans.html"
   ]
  },
  {
   "cell_type": "code",
   "execution_count": 8,
   "metadata": {},
   "outputs": [
    {
     "name": "stdout",
     "output_type": "stream",
     "text": [
      "(200, 2)\n",
      "[[ 9.65159833  3.90814641]\n",
      " [        nan         nan]\n",
      " [ 9.75052998  2.39986496]\n",
      " [ 6.59008149 -0.84957387]\n",
      " [-0.19553503 -0.55925765]]\n"
     ]
    },
    {
     "name": "stderr",
     "output_type": "stream",
     "text": [
      "c:\\dev\\machine_learning_1\\.venv\\lib\\site-packages\\ipykernel_launcher.py:43: RuntimeWarning: invalid value encountered in true_divide\n"
     ]
    },
    {
     "data": {
      "image/png": "[encoded data removed]",
      "text/plain": [
       "<Figure size 432x288 with 1 Axes>"
      ]
     },
     "metadata": {
      "needs_background": "light"
     },
     "output_type": "display_data"
    }
   ],
   "source": [
    "import numpy as np\n",
    "import matplotlib.pyplot as plt\n",
    "\n",
    "MAX_ITERATIONS = 10000\n",
    "\n",
    "def kmeans(dataSet, k):\n",
    "    numFeatures = dataSet.shape[1]\n",
    "    centroids = getRandomCentroids(numFeatures, k)\n",
    "    iterations = 0\n",
    "    oldCentroids = None\n",
    "    \n",
    "    while not shouldStop(oldCentroids, centroids, iterations):\n",
    "        oldCentroids = centroids\n",
    "        iterations += 1\n",
    "\n",
    "        labels = getLabels(dataSet, centroids)\n",
    "\n",
    "        centroids = getCentroids(dataSet, labels, k)\n",
    "\n",
    "    return centroids\n",
    "\n",
    "def shouldStop(oldCentroids, centroids, iterations):\n",
    "    if iterations > MAX_ITERATIONS: return True\n",
    "    return (oldCentroids == centroids).any()\n",
    "\n",
    "def getLabels(dataSet, centroids):\n",
    "    label_list = np.zeros(len(dataSet))\n",
    "    for i in range(len(dataSet)):\n",
    "        old_distance = getDistance(dataSet[i], centroids[0])\n",
    "        label = 0\n",
    "        for j in range(len(centroids)):\n",
    "            distance = getDistance(dataSet[i], centroids[j])\n",
    "            if old_distance > distance:\n",
    "                label = j\n",
    "        label_list[i] = label\n",
    "    return label_list\n",
    "    \n",
    "def getCentroids(dataSet, labels, k):\n",
    "    col_num = dataSet.shape[1]\n",
    "    sum_ = np.zeros([k, col_num])\n",
    "    for i in range(k):\n",
    "        index_k = np.where(labels == i)[0]\n",
    "        sum_[i] = np.sum(dataSet[index_k], axis = 0) /(len(index_k))\n",
    "    return sum_\n",
    "\n",
    "def getRandomCentroids(numFeatures, k):\n",
    "    centroids = np.random.normal(0,1,(k,numFeatures))\n",
    "    return centroids\n",
    "\n",
    "def getDistance(d1, d2):\n",
    "    vec1 = np.array(d1)\n",
    "    vec2 = np.array(d2)\n",
    "    return np.sqrt(np.sum(np.square(vec1-vec2)))\n",
    "\n",
    "from sklearn.datasets import make_blobs\n",
    "if __name__ == '__main__' :\n",
    "    X_varied, y = make_blobs(n_samples=200,\n",
    "                                centers=6,\n",
    "                                n_features=2,\n",
    "                                # cluster_std=[1.0, 2.5, 0.5],\n",
    "                                random_state=123)\n",
    "    print(X_varied.shape)\n",
    "    k = 5\n",
    "    c = kmeans(X_varied, k)\n",
    "    print(c)\n",
    "    for i in range(len(X_varied)):\n",
    "        plt.plot(X_varied[i, 0], X_varied[i, 1], marker='o', markersize = 5)\n",
    "    mark = ['Dr', 'Db', 'Dg', 'Dk', '^b', '+b', 'sb', 'db', '<b', 'pb']\n",
    "    for i in range(k):\n",
    "        plt.plot(c[i, 0], c[i, 1], mark[i], markersize = 12)\n",
    "    plt.show()"
   ]
  },
  {
   "cell_type": "code",
   "execution_count": null,
   "metadata": {},
   "outputs": [],
   "source": []
  }
 ],
 "metadata": {
  "kernelspec": {
   "display_name": "Python 3",
   "language": "python",
   "name": "python3"
  },
  "language_info": {
   "codemirror_mode": {
    "name": "ipython",
    "version": 3
   },
   "file_extension": ".py",
   "mimetype": "text/x-python",
   "name": "python",
   "nbconvert_exporter": "python",
   "pygments_lexer": "ipython3",
   "version": "3.7.4"
  }
 },
 "nbformat": 4,
 "nbformat_minor": 4
}

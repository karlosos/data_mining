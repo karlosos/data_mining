{
 "cells": [
  {
   "cell_type": "markdown",
   "metadata": {},
   "source": [
    "# Ukryte Modele Markova\n",
    "\n",
    "## Przygotowanie danych\n",
    "\n",
    "- [x] zdyskretyzować dane 4 lub 3 przedzialy\n",
    "- [ ] tworzenie modelu markova - algorytm viterbiego\n",
    "- odległość hamminga po nastrojeniu modelu - wybieramy najbardziej podobną obserwacje\n",
    "- wstępne strojenie macierzy A"
   ]
  },
  {
   "cell_type": "code",
   "execution_count": 65,
   "metadata": {},
   "outputs": [],
   "source": [
    "import pandas as pd\n",
    "import numpy as np\n",
    "\n",
    "df = pd.read_csv('szczecin_sep_2009.txt', header=None)\n",
    "df = df.rename({0: \"czas\", 1: \"temperatura\", 3: \"wilgotnosc\", 4: \"cisnienie\", 5: \"wiatr\", 11: \"condition\"}, axis='columns')\n",
    "df = df.drop(columns=[2, 6, 7, 8, 9, 10])"
   ]
  },
  {
   "cell_type": "code",
   "execution_count": 66,
   "metadata": {},
   "outputs": [],
   "source": [
    "df['temperatura'] = pd.cut(df['temperatura'], bins=4, labels=[1, 2, 3, 4])\n",
    "df['wilgotnosc'] = pd.cut(df['wilgotnosc'], bins=4, labels=[1, 2, 3, 4])\n",
    "df['cisnienie'] = pd.cut(df['cisnienie'], bins=4, labels=[1, 2, 3, 4])\n",
    "df['wiatr'] = pd.cut(df['wiatr'], bins=4, duplicates='drop', labels=[1, 2, 3, 4])"
   ]
  },
  {
   "cell_type": "code",
   "execution_count": 67,
   "metadata": {},
   "outputs": [
    {
     "data": {
      "text/html": [
       "<div>\n",
       "<style scoped>\n",
       "    .dataframe tbody tr th:only-of-type {\n",
       "        vertical-align: middle;\n",
       "    }\n",
       "\n",
       "    .dataframe tbody tr th {\n",
       "        vertical-align: top;\n",
       "    }\n",
       "\n",
       "    .dataframe thead th {\n",
       "        text-align: right;\n",
       "    }\n",
       "</style>\n",
       "<table border=\"1\" class=\"dataframe\">\n",
       "  <thead>\n",
       "    <tr style=\"text-align: right;\">\n",
       "      <th></th>\n",
       "      <th>czas</th>\n",
       "      <th>temperatura</th>\n",
       "      <th>wilgotnosc</th>\n",
       "      <th>cisnienie</th>\n",
       "      <th>wiatr</th>\n",
       "      <th>condition</th>\n",
       "    </tr>\n",
       "  </thead>\n",
       "  <tbody>\n",
       "    <tr>\n",
       "      <th>0</th>\n",
       "      <td>12:00 AM</td>\n",
       "      <td>2</td>\n",
       "      <td>3</td>\n",
       "      <td>3</td>\n",
       "      <td>1</td>\n",
       "      <td>Clear</td>\n",
       "    </tr>\n",
       "    <tr>\n",
       "      <th>1</th>\n",
       "      <td>12:30 AM</td>\n",
       "      <td>2</td>\n",
       "      <td>3</td>\n",
       "      <td>3</td>\n",
       "      <td>1</td>\n",
       "      <td>Clear</td>\n",
       "    </tr>\n",
       "    <tr>\n",
       "      <th>2</th>\n",
       "      <td>1:00 AM</td>\n",
       "      <td>2</td>\n",
       "      <td>3</td>\n",
       "      <td>3</td>\n",
       "      <td>1</td>\n",
       "      <td>Clear</td>\n",
       "    </tr>\n",
       "    <tr>\n",
       "      <th>3</th>\n",
       "      <td>1:30 AM</td>\n",
       "      <td>2</td>\n",
       "      <td>3</td>\n",
       "      <td>3</td>\n",
       "      <td>1</td>\n",
       "      <td>Clear</td>\n",
       "    </tr>\n",
       "    <tr>\n",
       "      <th>4</th>\n",
       "      <td>2:00 AM</td>\n",
       "      <td>2</td>\n",
       "      <td>3</td>\n",
       "      <td>3</td>\n",
       "      <td>1</td>\n",
       "      <td>Clear</td>\n",
       "    </tr>\n",
       "  </tbody>\n",
       "</table>\n",
       "</div>"
      ],
      "text/plain": [
       "       czas temperatura wilgotnosc cisnienie wiatr condition\n",
       "0  12:00 AM           2          3         3     1     Clear\n",
       "1  12:30 AM           2          3         3     1     Clear\n",
       "2   1:00 AM           2          3         3     1     Clear\n",
       "3   1:30 AM           2          3         3     1     Clear\n",
       "4   2:00 AM           2          3         3     1     Clear"
      ]
     },
     "execution_count": 67,
     "metadata": {},
     "output_type": "execute_result"
    }
   ],
   "source": [
    "df.head()"
   ]
  },
  {
   "cell_type": "code",
   "execution_count": 68,
   "metadata": {},
   "outputs": [
    {
     "data": {
      "text/html": [
       "<div>\n",
       "<style scoped>\n",
       "    .dataframe tbody tr th:only-of-type {\n",
       "        vertical-align: middle;\n",
       "    }\n",
       "\n",
       "    .dataframe tbody tr th {\n",
       "        vertical-align: top;\n",
       "    }\n",
       "\n",
       "    .dataframe thead th {\n",
       "        text-align: right;\n",
       "    }\n",
       "</style>\n",
       "<table border=\"1\" class=\"dataframe\">\n",
       "  <thead>\n",
       "    <tr style=\"text-align: right;\">\n",
       "      <th></th>\n",
       "      <th>czas</th>\n",
       "      <th>temperatura</th>\n",
       "      <th>wilgotnosc</th>\n",
       "      <th>cisnienie</th>\n",
       "      <th>wiatr</th>\n",
       "      <th>condition</th>\n",
       "    </tr>\n",
       "  </thead>\n",
       "  <tbody>\n",
       "    <tr>\n",
       "      <th>count</th>\n",
       "      <td>1438</td>\n",
       "      <td>1438</td>\n",
       "      <td>1438</td>\n",
       "      <td>1438</td>\n",
       "      <td>1438</td>\n",
       "      <td>1438</td>\n",
       "    </tr>\n",
       "    <tr>\n",
       "      <th>unique</th>\n",
       "      <td>48</td>\n",
       "      <td>4</td>\n",
       "      <td>4</td>\n",
       "      <td>4</td>\n",
       "      <td>2</td>\n",
       "      <td>14</td>\n",
       "    </tr>\n",
       "    <tr>\n",
       "      <th>top</th>\n",
       "      <td>12:30 AM</td>\n",
       "      <td>2</td>\n",
       "      <td>4</td>\n",
       "      <td>4</td>\n",
       "      <td>1</td>\n",
       "      <td>Clear</td>\n",
       "    </tr>\n",
       "    <tr>\n",
       "      <th>freq</th>\n",
       "      <td>30</td>\n",
       "      <td>735</td>\n",
       "      <td>709</td>\n",
       "      <td>596</td>\n",
       "      <td>807</td>\n",
       "      <td>807</td>\n",
       "    </tr>\n",
       "  </tbody>\n",
       "</table>\n",
       "</div>"
      ],
      "text/plain": [
       "            czas  temperatura  wilgotnosc  cisnienie  wiatr condition\n",
       "count       1438         1438        1438       1438   1438      1438\n",
       "unique        48            4           4          4      2        14\n",
       "top     12:30 AM            2           4          4      1     Clear\n",
       "freq          30          735         709        596    807       807"
      ]
     },
     "execution_count": 68,
     "metadata": {},
     "output_type": "execute_result"
    }
   ],
   "source": [
    "df.describe()"
   ]
  },
  {
   "cell_type": "code",
   "execution_count": 69,
   "metadata": {},
   "outputs": [
    {
     "data": {
      "text/plain": [
       "array(['Clear', 'Fog', 'Light Rain', 'Light Rain Showers',\n",
       "       'Light Thunderstorms and Rain', 'Mist', 'Mostly Cloudy',\n",
       "       'Partly Cloudy', 'Rain', 'Rain Showers', 'Scattered Clouds',\n",
       "       'Shallow Fog', 'Thunderstorms and Rain', 'Unknown'], dtype=object)"
      ]
     },
     "execution_count": 69,
     "metadata": {},
     "output_type": "execute_result"
    }
   ],
   "source": [
    "np.unique(df['condition'].values)"
   ]
  },
  {
   "cell_type": "code",
   "execution_count": 70,
   "metadata": {},
   "outputs": [],
   "source": [
    "observations = df['condition'].to_list()\n",
    "states = df[['temperatura', 'wilgotnosc', 'cisnienie', 'wiatr']]\n",
    "states = states.to_numpy()"
   ]
  },
  {
   "cell_type": "code",
   "execution_count": 71,
   "metadata": {},
   "outputs": [],
   "source": [
    "states = [f'{temp}{wilg}{cis}{wiatr}' for (temp, wilg, cis, wiatr) in states]"
   ]
  },
  {
   "cell_type": "code",
   "execution_count": 72,
   "metadata": {},
   "outputs": [],
   "source": [
    "observations = np.array(observations)"
   ]
  },
  {
   "cell_type": "code",
   "execution_count": 73,
   "metadata": {},
   "outputs": [
    {
     "data": {
      "text/plain": [
       "array(['Clear', 'Clear', 'Clear', ..., 'Clear', 'Clear', 'Light Rain'],\n",
       "      dtype='<U28')"
      ]
     },
     "execution_count": 73,
     "metadata": {},
     "output_type": "execute_result"
    }
   ],
   "source": [
    "observations"
   ]
  },
  {
   "cell_type": "markdown",
   "metadata": {},
   "source": [
    "## Tworzenie Ukrytego Modelu Markova"
   ]
  },
  {
   "cell_type": "code",
   "execution_count": 83,
   "metadata": {},
   "outputs": [],
   "source": [
    "import mchmm as mc\n",
    "obs_seq = observations\n",
    "sts_seq = states\n",
    "a = mc.HiddenMarkovModel().from_seq(obs_seq, sts_seq)"
   ]
  },
  {
   "cell_type": "code",
   "execution_count": 84,
   "metadata": {},
   "outputs": [
    {
     "data": {
      "text/plain": [
       "array(['1321', '1421', '1431', '1434', '1441', '1444', '2221', '2231',\n",
       "       '2234', '2241', '2311', '2314', '2321', '2324', '2331', '2334',\n",
       "       '2341', '2344', '2411', '2414', '2421', '2424', '2431', '2434',\n",
       "       '2441', '2444', '3111', '3121', '3131', '3134', '3141', '3144',\n",
       "       '3211', '3214', '3221', '3231', '3234', '3241', '3244', '3311',\n",
       "       '3314', '3321', '3324', '3331', '3334', '3341', '3344', '3411',\n",
       "       '3414', '3421', '3424', '3431', '3434', '3444', '4121', '4131',\n",
       "       '4141', '4221', '4231', '4234', '4241'], dtype='<U4')"
      ]
     },
     "execution_count": 84,
     "metadata": {},
     "output_type": "execute_result"
    }
   ],
   "source": [
    "a.states"
   ]
  },
  {
   "cell_type": "code",
   "execution_count": 85,
   "metadata": {},
   "outputs": [
    {
     "data": {
      "text/plain": [
       "array(['Clear', 'Fog', 'Light Rain', 'Light Rain Showers',\n",
       "       'Light Thunderstorms and Rain', 'Mist', 'Mostly Cloudy',\n",
       "       'Partly Cloudy', 'Rain', 'Rain Showers', 'Scattered Clouds',\n",
       "       'Shallow Fog', 'Thunderstorms and Rain', 'Unknown'], dtype='<U28')"
      ]
     },
     "execution_count": 85,
     "metadata": {},
     "output_type": "execute_result"
    }
   ],
   "source": [
    "a.observations"
   ]
  },
  {
   "cell_type": "code",
   "execution_count": 86,
   "metadata": {},
   "outputs": [
    {
     "data": {
      "text/html": [
       "<div>\n",
       "<style scoped>\n",
       "    .dataframe tbody tr th:only-of-type {\n",
       "        vertical-align: middle;\n",
       "    }\n",
       "\n",
       "    .dataframe tbody tr th {\n",
       "        vertical-align: top;\n",
       "    }\n",
       "\n",
       "    .dataframe thead th {\n",
       "        text-align: right;\n",
       "    }\n",
       "</style>\n",
       "<table border=\"1\" class=\"dataframe\">\n",
       "  <thead>\n",
       "    <tr style=\"text-align: right;\">\n",
       "      <th></th>\n",
       "      <th>Clear</th>\n",
       "      <th>Fog</th>\n",
       "      <th>Light Rain</th>\n",
       "      <th>Light Rain Showers</th>\n",
       "      <th>Light Thunderstorms and Rain</th>\n",
       "      <th>Mist</th>\n",
       "      <th>Mostly Cloudy</th>\n",
       "      <th>Partly Cloudy</th>\n",
       "      <th>Rain</th>\n",
       "      <th>Rain Showers</th>\n",
       "      <th>Scattered Clouds</th>\n",
       "      <th>Shallow Fog</th>\n",
       "      <th>Thunderstorms and Rain</th>\n",
       "      <th>Unknown</th>\n",
       "    </tr>\n",
       "  </thead>\n",
       "  <tbody>\n",
       "    <tr>\n",
       "      <th>1321</th>\n",
       "      <td>1.0</td>\n",
       "      <td>0.0</td>\n",
       "      <td>0.0</td>\n",
       "      <td>0.0</td>\n",
       "      <td>0.0</td>\n",
       "      <td>0.0</td>\n",
       "      <td>0.000000</td>\n",
       "      <td>0.000000</td>\n",
       "      <td>0.0</td>\n",
       "      <td>0.0</td>\n",
       "      <td>0.000000</td>\n",
       "      <td>0.000000</td>\n",
       "      <td>0.0</td>\n",
       "      <td>0.000000</td>\n",
       "    </tr>\n",
       "    <tr>\n",
       "      <th>1421</th>\n",
       "      <td>1.0</td>\n",
       "      <td>0.0</td>\n",
       "      <td>0.0</td>\n",
       "      <td>0.0</td>\n",
       "      <td>0.0</td>\n",
       "      <td>0.0</td>\n",
       "      <td>0.000000</td>\n",
       "      <td>0.000000</td>\n",
       "      <td>0.0</td>\n",
       "      <td>0.0</td>\n",
       "      <td>0.000000</td>\n",
       "      <td>0.000000</td>\n",
       "      <td>0.0</td>\n",
       "      <td>0.000000</td>\n",
       "    </tr>\n",
       "    <tr>\n",
       "      <th>1431</th>\n",
       "      <td>1.0</td>\n",
       "      <td>0.0</td>\n",
       "      <td>0.0</td>\n",
       "      <td>0.0</td>\n",
       "      <td>0.0</td>\n",
       "      <td>0.0</td>\n",
       "      <td>0.000000</td>\n",
       "      <td>0.000000</td>\n",
       "      <td>0.0</td>\n",
       "      <td>0.0</td>\n",
       "      <td>0.000000</td>\n",
       "      <td>0.000000</td>\n",
       "      <td>0.0</td>\n",
       "      <td>0.000000</td>\n",
       "    </tr>\n",
       "    <tr>\n",
       "      <th>1434</th>\n",
       "      <td>0.0</td>\n",
       "      <td>0.0</td>\n",
       "      <td>0.0</td>\n",
       "      <td>0.0</td>\n",
       "      <td>0.0</td>\n",
       "      <td>0.0</td>\n",
       "      <td>0.035714</td>\n",
       "      <td>0.000000</td>\n",
       "      <td>0.0</td>\n",
       "      <td>0.0</td>\n",
       "      <td>0.035714</td>\n",
       "      <td>0.857143</td>\n",
       "      <td>0.0</td>\n",
       "      <td>0.071429</td>\n",
       "    </tr>\n",
       "    <tr>\n",
       "      <th>1441</th>\n",
       "      <td>1.0</td>\n",
       "      <td>0.0</td>\n",
       "      <td>0.0</td>\n",
       "      <td>0.0</td>\n",
       "      <td>0.0</td>\n",
       "      <td>0.0</td>\n",
       "      <td>0.000000</td>\n",
       "      <td>0.000000</td>\n",
       "      <td>0.0</td>\n",
       "      <td>0.0</td>\n",
       "      <td>0.000000</td>\n",
       "      <td>0.000000</td>\n",
       "      <td>0.0</td>\n",
       "      <td>0.000000</td>\n",
       "    </tr>\n",
       "    <tr>\n",
       "      <th>...</th>\n",
       "      <td>...</td>\n",
       "      <td>...</td>\n",
       "      <td>...</td>\n",
       "      <td>...</td>\n",
       "      <td>...</td>\n",
       "      <td>...</td>\n",
       "      <td>...</td>\n",
       "      <td>...</td>\n",
       "      <td>...</td>\n",
       "      <td>...</td>\n",
       "      <td>...</td>\n",
       "      <td>...</td>\n",
       "      <td>...</td>\n",
       "      <td>...</td>\n",
       "    </tr>\n",
       "    <tr>\n",
       "      <th>4141</th>\n",
       "      <td>1.0</td>\n",
       "      <td>0.0</td>\n",
       "      <td>0.0</td>\n",
       "      <td>0.0</td>\n",
       "      <td>0.0</td>\n",
       "      <td>0.0</td>\n",
       "      <td>0.000000</td>\n",
       "      <td>0.000000</td>\n",
       "      <td>0.0</td>\n",
       "      <td>0.0</td>\n",
       "      <td>0.000000</td>\n",
       "      <td>0.000000</td>\n",
       "      <td>0.0</td>\n",
       "      <td>0.000000</td>\n",
       "    </tr>\n",
       "    <tr>\n",
       "      <th>4221</th>\n",
       "      <td>1.0</td>\n",
       "      <td>0.0</td>\n",
       "      <td>0.0</td>\n",
       "      <td>0.0</td>\n",
       "      <td>0.0</td>\n",
       "      <td>0.0</td>\n",
       "      <td>0.000000</td>\n",
       "      <td>0.000000</td>\n",
       "      <td>0.0</td>\n",
       "      <td>0.0</td>\n",
       "      <td>0.000000</td>\n",
       "      <td>0.000000</td>\n",
       "      <td>0.0</td>\n",
       "      <td>0.000000</td>\n",
       "    </tr>\n",
       "    <tr>\n",
       "      <th>4231</th>\n",
       "      <td>1.0</td>\n",
       "      <td>0.0</td>\n",
       "      <td>0.0</td>\n",
       "      <td>0.0</td>\n",
       "      <td>0.0</td>\n",
       "      <td>0.0</td>\n",
       "      <td>0.000000</td>\n",
       "      <td>0.000000</td>\n",
       "      <td>0.0</td>\n",
       "      <td>0.0</td>\n",
       "      <td>0.000000</td>\n",
       "      <td>0.000000</td>\n",
       "      <td>0.0</td>\n",
       "      <td>0.000000</td>\n",
       "    </tr>\n",
       "    <tr>\n",
       "      <th>4234</th>\n",
       "      <td>0.0</td>\n",
       "      <td>0.0</td>\n",
       "      <td>0.0</td>\n",
       "      <td>0.0</td>\n",
       "      <td>0.0</td>\n",
       "      <td>0.0</td>\n",
       "      <td>0.000000</td>\n",
       "      <td>0.333333</td>\n",
       "      <td>0.0</td>\n",
       "      <td>0.0</td>\n",
       "      <td>0.666667</td>\n",
       "      <td>0.000000</td>\n",
       "      <td>0.0</td>\n",
       "      <td>0.000000</td>\n",
       "    </tr>\n",
       "    <tr>\n",
       "      <th>4241</th>\n",
       "      <td>1.0</td>\n",
       "      <td>0.0</td>\n",
       "      <td>0.0</td>\n",
       "      <td>0.0</td>\n",
       "      <td>0.0</td>\n",
       "      <td>0.0</td>\n",
       "      <td>0.000000</td>\n",
       "      <td>0.000000</td>\n",
       "      <td>0.0</td>\n",
       "      <td>0.0</td>\n",
       "      <td>0.000000</td>\n",
       "      <td>0.000000</td>\n",
       "      <td>0.0</td>\n",
       "      <td>0.000000</td>\n",
       "    </tr>\n",
       "  </tbody>\n",
       "</table>\n",
       "<p>61 rows × 14 columns</p>\n",
       "</div>"
      ],
      "text/plain": [
       "      Clear  Fog  Light Rain  Light Rain Showers  \\\n",
       "1321    1.0  0.0         0.0                 0.0   \n",
       "1421    1.0  0.0         0.0                 0.0   \n",
       "1431    1.0  0.0         0.0                 0.0   \n",
       "1434    0.0  0.0         0.0                 0.0   \n",
       "1441    1.0  0.0         0.0                 0.0   \n",
       "...     ...  ...         ...                 ...   \n",
       "4141    1.0  0.0         0.0                 0.0   \n",
       "4221    1.0  0.0         0.0                 0.0   \n",
       "4231    1.0  0.0         0.0                 0.0   \n",
       "4234    0.0  0.0         0.0                 0.0   \n",
       "4241    1.0  0.0         0.0                 0.0   \n",
       "\n",
       "      Light Thunderstorms and Rain  Mist  Mostly Cloudy  Partly Cloudy  Rain  \\\n",
       "1321                           0.0   0.0       0.000000       0.000000   0.0   \n",
       "1421                           0.0   0.0       0.000000       0.000000   0.0   \n",
       "1431                           0.0   0.0       0.000000       0.000000   0.0   \n",
       "1434                           0.0   0.0       0.035714       0.000000   0.0   \n",
       "1441                           0.0   0.0       0.000000       0.000000   0.0   \n",
       "...                            ...   ...            ...            ...   ...   \n",
       "4141                           0.0   0.0       0.000000       0.000000   0.0   \n",
       "4221                           0.0   0.0       0.000000       0.000000   0.0   \n",
       "4231                           0.0   0.0       0.000000       0.000000   0.0   \n",
       "4234                           0.0   0.0       0.000000       0.333333   0.0   \n",
       "4241                           0.0   0.0       0.000000       0.000000   0.0   \n",
       "\n",
       "      Rain Showers  Scattered Clouds  Shallow Fog  Thunderstorms and Rain  \\\n",
       "1321           0.0          0.000000     0.000000                     0.0   \n",
       "1421           0.0          0.000000     0.000000                     0.0   \n",
       "1431           0.0          0.000000     0.000000                     0.0   \n",
       "1434           0.0          0.035714     0.857143                     0.0   \n",
       "1441           0.0          0.000000     0.000000                     0.0   \n",
       "...            ...               ...          ...                     ...   \n",
       "4141           0.0          0.000000     0.000000                     0.0   \n",
       "4221           0.0          0.000000     0.000000                     0.0   \n",
       "4231           0.0          0.000000     0.000000                     0.0   \n",
       "4234           0.0          0.666667     0.000000                     0.0   \n",
       "4241           0.0          0.000000     0.000000                     0.0   \n",
       "\n",
       "       Unknown  \n",
       "1321  0.000000  \n",
       "1421  0.000000  \n",
       "1431  0.000000  \n",
       "1434  0.071429  \n",
       "1441  0.000000  \n",
       "...        ...  \n",
       "4141  0.000000  \n",
       "4221  0.000000  \n",
       "4231  0.000000  \n",
       "4234  0.000000  \n",
       "4241  0.000000  \n",
       "\n",
       "[61 rows x 14 columns]"
      ]
     },
     "execution_count": 86,
     "metadata": {},
     "output_type": "execute_result"
    }
   ],
   "source": [
    "import pandas as pd\n",
    "pd.DataFrame(a.ep, index=a.states, columns=a.observations)"
   ]
  },
  {
   "cell_type": "markdown",
   "metadata": {},
   "source": [
    "## Viterbi - odkrycie ścieżki stanów pogodowych mając daną sekwencję obserwacji"
   ]
  },
  {
   "cell_type": "code",
   "execution_count": 87,
   "metadata": {},
   "outputs": [
    {
     "name": "stderr",
     "output_type": "stream",
     "text": [
      "c:\\dev\\data_mining\\.venv\\lib\\site-packages\\mchmm\\_hmm.py:247: RuntimeWarning: invalid value encountered in true_divide\n",
      "  t1[:, i] /= t1[:, i].sum()\n"
     ]
    },
    {
     "name": "stdout",
     "output_type": "stream",
     "text": [
      "VI 2431243124312431243124312431243124312431243124312431243124312431243124312431243124312431243124312431243124312431243124312431243124312431243124312431243124312431243124312431243124312431243124312431243124312431243124312431243424342434243424342431243424342434243424342434243424342434243424342434243424342434243424342434243124312431243124312431243124312431243124312431243124312431243124312431243124312431243124312431243124312431243114311421132113211321132113211321132113211321132113211321132113211321132113211321132113211321132113211321132113211321132113211321132113211321132113211321132113211321132113211321132113211321132113211321132113211321132113211321132113211321132113211321132113211321132113211321132113211321132113211321132113211321132113211321132113211321132113211321132113211321132113211321132113211321132113211321132113211321132113211321132113211321132113211321132113211321132113211321132113211321132113211321132113211321132113211321132113211321132113211321132113211321132113211321132113211321132113211321132113211321132113211321132113211321132113211321132113211321132113211321132113211321132113211321132113211321132113211321132113211321132113211321132113211321132113211321132113211321132113211321132113211321132113211321132113211321132113211321132113211321132113211321132113211321132113211321132113211321132113211321132113211321132113211321132113211321132113211321132113211321132113211321132113211321132113211321132113211321132113211321132113211321132113211321132113211321132113211321132113211321132113211321132113211321132113211321132113211321132113211321132113211321132113211321132113211321132113211321132113211321132113211321132113211321132113211321132113211321132113211321132113211321132113211321132113211321132113211321132113211321132113211321132113211321132113211321132113211321132113211321132113211321132113211321132113211321132113211321132113211321132113211321132113211321132113211321132113211321132113211321132113211321132113211321132113211321132113211321132113211321132113211321132113211321132113211321132113211321132113211321132113211321132113211321132113211321132113211321132113211321132113211321132113211321132113211321132113211321132113211321132113211321132113211321132113211321132113211321132113211321132113211321132113211321132113211321132113211321132113211321132113211321132113211321132113211321132113211321132113211321132113211321132113211321132113211321132113211321132113211321132113211321132113211321132113211321132113211321132113211321132113211321132113211321132113211321132113211321132113211321132113211321132113211321132113211321132113211321132113211321132113211321132113211321132113211321132113211321132113211321132113211321132113211321132113211321132113211321132113211321132113211321132113211321132113211321132113211321132113211321132113211321132113211321132113211321132113211321132113211321132113211321132113211321132113211321132113211321132113211321132113211321132113211321132113211321132113211321132113211321132113211321132113211321132113211321132113211321132113211321132113211321132113211321132113211321132113211321132113211321132113211321132113211321132113211321132113211321132113211321132113211321132113211321132113211321132113211321132113211321132113211321132113211321132113211321132113211321132113211321132113211321132113211321132113211321132113211321132113211321132113211321132113211321132113211321132113211321132113211321132113211321132113211321132113211321132113211321132113211321132113211321132113211321132113211321132113211321132113211321132113211321132113211321132113211321132113211321132113211321132113211321132113211321132113211321132113211321132113211321132113211321132113211321132113211321132113211321132113211321132113211321132113211321132113211321132113211321132113211321132113211321132113211321132113211321132113211321132113211321132113211321132113211321132113211321132113211321132113211321132113211321132113211321132113211321132113211321132113211321132113211321132113211321132113211321132113211321132113211321132113211321132113211321132113211321132113211321132113211321132113211321132113211321132113211321132113211321132113211321132113211321132113211321132113211321132113211321132113211321132113211321132113211321132113211321132113211321132113211321132113211321132113211321132113211321132113211321132113211321132113211321132113211321132113211321132113211321132113211321132113211321132113211321132113211321132113211321132113211321132113211321132113211321132113211321132113211321132113211321132113211321132113211321132113211321132113211321132113211321132113211321132113211321132113211321132113211321132113211321132113211321132113211321132113211321132113211321132113211321132113211321132113211321132113211321132113211321132113211321132113211321132113211321132113211321132113211321132113211321132113211321132113211321132113211321132113211321132113211321132113211321132113211321132113211321132113211321132113211321132113211321132113211321132113211321132113211321132113211321132113211321132113211321132113211321132113211321132113211321132113211321132113211321132113211321132113211321132113211321132113211321132113211321132113211321132113211321132113211321132113211321132113211321132113211321132113211321132113211321132113211321132113211321132113211321132113211321132113211321132113211321132113211321132113211321132113211321132113211321132113211321132113211321132113211321132113211321132113211321132113211321132113211321132113211321132113211321132113211321132113211321132113211321132113211321132113211321132113211321132113211321132113211321132113211321132113211321132113211321132113211321132113211321132113211321132113211321132113211321132113211321132113211321132113211321132113211321132113211321132113211321132113211321132113211321132113211321132113211321132113211321132113211321132113211321132113211321\n",
      "NO ['Clear' 'Clear' 'Clear' ... 'Clear' 'Clear' 'Light Rain']\n"
     ]
    }
   ],
   "source": [
    "vs, vsi = a.viterbi(obs_seq)\n",
    "# states sequence\n",
    "print(\"VI\", \"\".join(vs))\n",
    "# observations\n",
    "print(\"NO\", obs_seq)"
   ]
  },
  {
   "cell_type": "markdown",
   "metadata": {},
   "source": [
    "## Podział danych na sekwencje uczące i testujące. "
   ]
  },
  {
   "cell_type": "code",
   "execution_count": null,
   "metadata": {},
   "outputs": [],
   "source": []
  }
 ],
 "metadata": {
  "kernelspec": {
   "display_name": "Python 3",
   "language": "python",
   "name": "python3"
  },
  "language_info": {
   "codemirror_mode": {
    "name": "ipython",
    "version": 3
   },
   "file_extension": ".py",
   "mimetype": "text/x-python",
   "name": "python",
   "nbconvert_exporter": "python",
   "pygments_lexer": "ipython3",
   "version": "3.7.4"
  }
 },
 "nbformat": 4,
 "nbformat_minor": 4
}

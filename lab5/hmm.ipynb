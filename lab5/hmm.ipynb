{
 "cells": [
  {
   "cell_type": "markdown",
   "metadata": {},
   "source": [
    "# Ukryte Modele Markova\n",
    "\n",
    "## Przygotowanie danych\n",
    "\n",
    "- [x] zdyskretyzować dane 4 lub 3 przedzialy\n",
    "- [x] tworzenie modelu markova - algorytm viterbiego\n",
    "- odległość hamminga po nastrojeniu modelu - wybieramy najbardziej podobną obserwacje\n",
    "- wstępne strojenie macierzy A"
   ]
  },
  {
   "cell_type": "code",
   "execution_count": 1,
   "metadata": {},
   "outputs": [],
   "source": [
    "import pandas as pd\n",
    "import numpy as np\n",
    "\n",
    "df = pd.read_csv('szczecin_sep_2009.txt', header=None)\n",
    "df = df.rename({0: \"czas\", 1: \"temperatura\", 3: \"wilgotnosc\", 4: \"cisnienie\", 5: \"wiatr\", 11: \"condition\"}, axis='columns')\n",
    "df = df.drop(columns=[2, 6, 7, 8, 9, 10])"
   ]
  },
  {
   "cell_type": "code",
   "execution_count": 2,
   "metadata": {},
   "outputs": [],
   "source": [
    "df['temperatura'] = pd.cut(df['temperatura'], bins=4, labels=[1, 2, 3, 4])\n",
    "df['wilgotnosc'] = pd.cut(df['wilgotnosc'], bins=4, labels=[1, 2, 3, 4])\n",
    "df['cisnienie'] = pd.cut(df['cisnienie'], bins=4, labels=[1, 2, 3, 4])\n",
    "df['wiatr'] = pd.cut(df['wiatr'], bins=4, labels=[1, 2, 3, 4])"
   ]
  },
  {
   "cell_type": "code",
   "execution_count": 3,
   "metadata": {},
   "outputs": [
    {
     "data": {
      "text/html": [
       "<div>\n",
       "<style scoped>\n",
       "    .dataframe tbody tr th:only-of-type {\n",
       "        vertical-align: middle;\n",
       "    }\n",
       "\n",
       "    .dataframe tbody tr th {\n",
       "        vertical-align: top;\n",
       "    }\n",
       "\n",
       "    .dataframe thead th {\n",
       "        text-align: right;\n",
       "    }\n",
       "</style>\n",
       "<table border=\"1\" class=\"dataframe\">\n",
       "  <thead>\n",
       "    <tr style=\"text-align: right;\">\n",
       "      <th></th>\n",
       "      <th>czas</th>\n",
       "      <th>temperatura</th>\n",
       "      <th>wilgotnosc</th>\n",
       "      <th>cisnienie</th>\n",
       "      <th>wiatr</th>\n",
       "      <th>condition</th>\n",
       "    </tr>\n",
       "  </thead>\n",
       "  <tbody>\n",
       "    <tr>\n",
       "      <th>0</th>\n",
       "      <td>12:00 AM</td>\n",
       "      <td>2</td>\n",
       "      <td>3</td>\n",
       "      <td>3</td>\n",
       "      <td>1</td>\n",
       "      <td>Clear</td>\n",
       "    </tr>\n",
       "    <tr>\n",
       "      <th>1</th>\n",
       "      <td>12:30 AM</td>\n",
       "      <td>2</td>\n",
       "      <td>3</td>\n",
       "      <td>3</td>\n",
       "      <td>1</td>\n",
       "      <td>Clear</td>\n",
       "    </tr>\n",
       "    <tr>\n",
       "      <th>2</th>\n",
       "      <td>1:00 AM</td>\n",
       "      <td>2</td>\n",
       "      <td>3</td>\n",
       "      <td>3</td>\n",
       "      <td>1</td>\n",
       "      <td>Clear</td>\n",
       "    </tr>\n",
       "    <tr>\n",
       "      <th>3</th>\n",
       "      <td>1:30 AM</td>\n",
       "      <td>2</td>\n",
       "      <td>3</td>\n",
       "      <td>3</td>\n",
       "      <td>1</td>\n",
       "      <td>Clear</td>\n",
       "    </tr>\n",
       "    <tr>\n",
       "      <th>4</th>\n",
       "      <td>2:00 AM</td>\n",
       "      <td>2</td>\n",
       "      <td>3</td>\n",
       "      <td>3</td>\n",
       "      <td>1</td>\n",
       "      <td>Clear</td>\n",
       "    </tr>\n",
       "  </tbody>\n",
       "</table>\n",
       "</div>"
      ],
      "text/plain": [
       "       czas temperatura wilgotnosc cisnienie wiatr condition\n",
       "0  12:00 AM           2          3         3     1     Clear\n",
       "1  12:30 AM           2          3         3     1     Clear\n",
       "2   1:00 AM           2          3         3     1     Clear\n",
       "3   1:30 AM           2          3         3     1     Clear\n",
       "4   2:00 AM           2          3         3     1     Clear"
      ]
     },
     "execution_count": 3,
     "metadata": {},
     "output_type": "execute_result"
    }
   ],
   "source": [
    "df.head()"
   ]
  },
  {
   "cell_type": "code",
   "execution_count": 4,
   "metadata": {},
   "outputs": [
    {
     "data": {
      "text/html": [
       "<div>\n",
       "<style scoped>\n",
       "    .dataframe tbody tr th:only-of-type {\n",
       "        vertical-align: middle;\n",
       "    }\n",
       "\n",
       "    .dataframe tbody tr th {\n",
       "        vertical-align: top;\n",
       "    }\n",
       "\n",
       "    .dataframe thead th {\n",
       "        text-align: right;\n",
       "    }\n",
       "</style>\n",
       "<table border=\"1\" class=\"dataframe\">\n",
       "  <thead>\n",
       "    <tr style=\"text-align: right;\">\n",
       "      <th></th>\n",
       "      <th>czas</th>\n",
       "      <th>temperatura</th>\n",
       "      <th>wilgotnosc</th>\n",
       "      <th>cisnienie</th>\n",
       "      <th>wiatr</th>\n",
       "      <th>condition</th>\n",
       "    </tr>\n",
       "  </thead>\n",
       "  <tbody>\n",
       "    <tr>\n",
       "      <th>count</th>\n",
       "      <td>1438</td>\n",
       "      <td>1438</td>\n",
       "      <td>1438</td>\n",
       "      <td>1438</td>\n",
       "      <td>1438</td>\n",
       "      <td>1438</td>\n",
       "    </tr>\n",
       "    <tr>\n",
       "      <th>unique</th>\n",
       "      <td>48</td>\n",
       "      <td>4</td>\n",
       "      <td>4</td>\n",
       "      <td>4</td>\n",
       "      <td>2</td>\n",
       "      <td>14</td>\n",
       "    </tr>\n",
       "    <tr>\n",
       "      <th>top</th>\n",
       "      <td>8:30 PM</td>\n",
       "      <td>2</td>\n",
       "      <td>4</td>\n",
       "      <td>4</td>\n",
       "      <td>1</td>\n",
       "      <td>Clear</td>\n",
       "    </tr>\n",
       "    <tr>\n",
       "      <th>freq</th>\n",
       "      <td>30</td>\n",
       "      <td>735</td>\n",
       "      <td>709</td>\n",
       "      <td>596</td>\n",
       "      <td>807</td>\n",
       "      <td>807</td>\n",
       "    </tr>\n",
       "  </tbody>\n",
       "</table>\n",
       "</div>"
      ],
      "text/plain": [
       "           czas  temperatura  wilgotnosc  cisnienie  wiatr condition\n",
       "count      1438         1438        1438       1438   1438      1438\n",
       "unique       48            4           4          4      2        14\n",
       "top     8:30 PM            2           4          4      1     Clear\n",
       "freq         30          735         709        596    807       807"
      ]
     },
     "execution_count": 4,
     "metadata": {},
     "output_type": "execute_result"
    }
   ],
   "source": [
    "df.describe()"
   ]
  },
  {
   "cell_type": "code",
   "execution_count": 5,
   "metadata": {},
   "outputs": [
    {
     "data": {
      "text/plain": [
       "array(['Clear', 'Fog', 'Light Rain', 'Light Rain Showers',\n",
       "       'Light Thunderstorms and Rain', 'Mist', 'Mostly Cloudy',\n",
       "       'Partly Cloudy', 'Rain', 'Rain Showers', 'Scattered Clouds',\n",
       "       'Shallow Fog', 'Thunderstorms and Rain', 'Unknown'], dtype=object)"
      ]
     },
     "execution_count": 5,
     "metadata": {},
     "output_type": "execute_result"
    }
   ],
   "source": [
    "np.unique(df['condition'].values)"
   ]
  },
  {
   "cell_type": "code",
   "execution_count": 6,
   "metadata": {},
   "outputs": [],
   "source": [
    "states = df['condition'].to_list()\n",
    "observations = df[['temperatura', 'wilgotnosc', 'cisnienie', 'wiatr']]\n",
    "observations = observations.to_numpy()"
   ]
  },
  {
   "cell_type": "code",
   "execution_count": 7,
   "metadata": {},
   "outputs": [],
   "source": [
    "observations = [f'{temp}{wilg}{cis}{wiatr}' for (temp, wilg, cis, wiatr) in observations]"
   ]
  },
  {
   "cell_type": "code",
   "execution_count": 8,
   "metadata": {},
   "outputs": [
    {
     "data": {
      "text/plain": [
       "['Clear', 'Clear', 'Clear', 'Clear', 'Clear']"
      ]
     },
     "execution_count": 8,
     "metadata": {},
     "output_type": "execute_result"
    }
   ],
   "source": [
    "states[:5]"
   ]
  },
  {
   "cell_type": "code",
   "execution_count": 9,
   "metadata": {},
   "outputs": [
    {
     "data": {
      "text/plain": [
       "['2331', '2331', '2331', '2331', '2331']"
      ]
     },
     "execution_count": 9,
     "metadata": {},
     "output_type": "execute_result"
    }
   ],
   "source": [
    "observations[:5]"
   ]
  },
  {
   "cell_type": "markdown",
   "metadata": {},
   "source": [
    "## Tworzenie Ukrytego Modelu Markova"
   ]
  },
  {
   "cell_type": "code",
   "execution_count": 10,
   "metadata": {},
   "outputs": [],
   "source": [
    "import mchmm as hmm\n",
    "obs_seq = observations\n",
    "sts_seq = states\n",
    "a = hmm.HiddenMarkovModel().from_seq(obs_seq, sts_seq)"
   ]
  },
  {
   "cell_type": "code",
   "execution_count": 11,
   "metadata": {},
   "outputs": [
    {
     "data": {
      "text/plain": [
       "array(['Clear', 'Fog', 'Light Rain', 'Light Rain Showers',\n",
       "       'Light Thunderstorms and Rain', 'Mist', 'Mostly Cloudy',\n",
       "       'Partly Cloudy', 'Rain', 'Rain Showers', 'Scattered Clouds',\n",
       "       'Shallow Fog', 'Thunderstorms and Rain', 'Unknown'], dtype='<U28')"
      ]
     },
     "execution_count": 11,
     "metadata": {},
     "output_type": "execute_result"
    }
   ],
   "source": [
    "a.states"
   ]
  },
  {
   "cell_type": "code",
   "execution_count": 12,
   "metadata": {},
   "outputs": [
    {
     "data": {
      "text/plain": [
       "array(['1321', '1421', '1431', '1434', '1441', '1444', '2221', '2231',\n",
       "       '2234', '2241', '2311', '2314', '2321', '2324', '2331', '2334',\n",
       "       '2341', '2344', '2411', '2414', '2421', '2424', '2431', '2434',\n",
       "       '2441', '2444', '3111', '3121', '3131', '3134', '3141', '3144',\n",
       "       '3211', '3214', '3221', '3231', '3234', '3241', '3244', '3311',\n",
       "       '3314', '3321', '3324', '3331', '3334', '3341', '3344', '3411',\n",
       "       '3414', '3421', '3424', '3431', '3434', '3444', '4121', '4131',\n",
       "       '4141', '4221', '4231', '4234', '4241'], dtype='<U4')"
      ]
     },
     "execution_count": 12,
     "metadata": {},
     "output_type": "execute_result"
    }
   ],
   "source": [
    "a.observations"
   ]
  },
  {
   "cell_type": "code",
   "execution_count": 13,
   "metadata": {},
   "outputs": [
    {
     "data": {
      "text/html": [
       "<div>\n",
       "<style scoped>\n",
       "    .dataframe tbody tr th:only-of-type {\n",
       "        vertical-align: middle;\n",
       "    }\n",
       "\n",
       "    .dataframe tbody tr th {\n",
       "        vertical-align: top;\n",
       "    }\n",
       "\n",
       "    .dataframe thead th {\n",
       "        text-align: right;\n",
       "    }\n",
       "</style>\n",
       "<table border=\"1\" class=\"dataframe\">\n",
       "  <thead>\n",
       "    <tr style=\"text-align: right;\">\n",
       "      <th></th>\n",
       "      <th>1321</th>\n",
       "      <th>1421</th>\n",
       "      <th>1431</th>\n",
       "      <th>1434</th>\n",
       "      <th>1441</th>\n",
       "      <th>1444</th>\n",
       "      <th>2221</th>\n",
       "      <th>2231</th>\n",
       "      <th>2234</th>\n",
       "      <th>2241</th>\n",
       "      <th>...</th>\n",
       "      <th>3431</th>\n",
       "      <th>3434</th>\n",
       "      <th>3444</th>\n",
       "      <th>4121</th>\n",
       "      <th>4131</th>\n",
       "      <th>4141</th>\n",
       "      <th>4221</th>\n",
       "      <th>4231</th>\n",
       "      <th>4234</th>\n",
       "      <th>4241</th>\n",
       "    </tr>\n",
       "  </thead>\n",
       "  <tbody>\n",
       "    <tr>\n",
       "      <th>Clear</th>\n",
       "      <td>0.002478</td>\n",
       "      <td>0.002478</td>\n",
       "      <td>0.04461</td>\n",
       "      <td>0.000000</td>\n",
       "      <td>0.039653</td>\n",
       "      <td>0.000000</td>\n",
       "      <td>0.001239</td>\n",
       "      <td>0.002478</td>\n",
       "      <td>0.000000</td>\n",
       "      <td>0.001239</td>\n",
       "      <td>...</td>\n",
       "      <td>0.001239</td>\n",
       "      <td>0.000000</td>\n",
       "      <td>0.000000</td>\n",
       "      <td>0.018587</td>\n",
       "      <td>0.002478</td>\n",
       "      <td>0.006196</td>\n",
       "      <td>0.002478</td>\n",
       "      <td>0.004957</td>\n",
       "      <td>0.000000</td>\n",
       "      <td>0.01487</td>\n",
       "    </tr>\n",
       "    <tr>\n",
       "      <th>Fog</th>\n",
       "      <td>0.000000</td>\n",
       "      <td>0.000000</td>\n",
       "      <td>0.00000</td>\n",
       "      <td>0.000000</td>\n",
       "      <td>0.000000</td>\n",
       "      <td>0.000000</td>\n",
       "      <td>0.000000</td>\n",
       "      <td>0.000000</td>\n",
       "      <td>0.000000</td>\n",
       "      <td>0.000000</td>\n",
       "      <td>...</td>\n",
       "      <td>0.000000</td>\n",
       "      <td>0.000000</td>\n",
       "      <td>0.000000</td>\n",
       "      <td>0.000000</td>\n",
       "      <td>0.000000</td>\n",
       "      <td>0.000000</td>\n",
       "      <td>0.000000</td>\n",
       "      <td>0.000000</td>\n",
       "      <td>0.000000</td>\n",
       "      <td>0.00000</td>\n",
       "    </tr>\n",
       "    <tr>\n",
       "      <th>Light Rain</th>\n",
       "      <td>0.000000</td>\n",
       "      <td>0.000000</td>\n",
       "      <td>0.00000</td>\n",
       "      <td>0.000000</td>\n",
       "      <td>0.000000</td>\n",
       "      <td>0.000000</td>\n",
       "      <td>0.000000</td>\n",
       "      <td>0.000000</td>\n",
       "      <td>0.000000</td>\n",
       "      <td>0.000000</td>\n",
       "      <td>...</td>\n",
       "      <td>0.000000</td>\n",
       "      <td>0.000000</td>\n",
       "      <td>0.000000</td>\n",
       "      <td>0.000000</td>\n",
       "      <td>0.000000</td>\n",
       "      <td>0.000000</td>\n",
       "      <td>0.000000</td>\n",
       "      <td>0.000000</td>\n",
       "      <td>0.000000</td>\n",
       "      <td>0.00000</td>\n",
       "    </tr>\n",
       "    <tr>\n",
       "      <th>Light Rain Showers</th>\n",
       "      <td>0.000000</td>\n",
       "      <td>0.000000</td>\n",
       "      <td>0.00000</td>\n",
       "      <td>0.000000</td>\n",
       "      <td>0.000000</td>\n",
       "      <td>0.000000</td>\n",
       "      <td>0.000000</td>\n",
       "      <td>0.000000</td>\n",
       "      <td>0.000000</td>\n",
       "      <td>0.000000</td>\n",
       "      <td>...</td>\n",
       "      <td>0.000000</td>\n",
       "      <td>0.000000</td>\n",
       "      <td>0.000000</td>\n",
       "      <td>0.000000</td>\n",
       "      <td>0.000000</td>\n",
       "      <td>0.000000</td>\n",
       "      <td>0.000000</td>\n",
       "      <td>0.000000</td>\n",
       "      <td>0.000000</td>\n",
       "      <td>0.00000</td>\n",
       "    </tr>\n",
       "    <tr>\n",
       "      <th>Light Thunderstorms and Rain</th>\n",
       "      <td>0.000000</td>\n",
       "      <td>0.000000</td>\n",
       "      <td>0.00000</td>\n",
       "      <td>0.000000</td>\n",
       "      <td>0.000000</td>\n",
       "      <td>0.000000</td>\n",
       "      <td>0.000000</td>\n",
       "      <td>0.000000</td>\n",
       "      <td>0.000000</td>\n",
       "      <td>0.000000</td>\n",
       "      <td>...</td>\n",
       "      <td>0.000000</td>\n",
       "      <td>0.000000</td>\n",
       "      <td>0.000000</td>\n",
       "      <td>0.000000</td>\n",
       "      <td>0.000000</td>\n",
       "      <td>0.000000</td>\n",
       "      <td>0.000000</td>\n",
       "      <td>0.000000</td>\n",
       "      <td>0.000000</td>\n",
       "      <td>0.00000</td>\n",
       "    </tr>\n",
       "    <tr>\n",
       "      <th>Mist</th>\n",
       "      <td>0.000000</td>\n",
       "      <td>0.000000</td>\n",
       "      <td>0.00000</td>\n",
       "      <td>0.000000</td>\n",
       "      <td>0.000000</td>\n",
       "      <td>0.333333</td>\n",
       "      <td>0.000000</td>\n",
       "      <td>0.000000</td>\n",
       "      <td>0.000000</td>\n",
       "      <td>0.000000</td>\n",
       "      <td>...</td>\n",
       "      <td>0.000000</td>\n",
       "      <td>0.000000</td>\n",
       "      <td>0.000000</td>\n",
       "      <td>0.000000</td>\n",
       "      <td>0.000000</td>\n",
       "      <td>0.000000</td>\n",
       "      <td>0.000000</td>\n",
       "      <td>0.000000</td>\n",
       "      <td>0.000000</td>\n",
       "      <td>0.00000</td>\n",
       "    </tr>\n",
       "    <tr>\n",
       "      <th>Mostly Cloudy</th>\n",
       "      <td>0.000000</td>\n",
       "      <td>0.000000</td>\n",
       "      <td>0.00000</td>\n",
       "      <td>0.005025</td>\n",
       "      <td>0.000000</td>\n",
       "      <td>0.015075</td>\n",
       "      <td>0.000000</td>\n",
       "      <td>0.000000</td>\n",
       "      <td>0.000000</td>\n",
       "      <td>0.000000</td>\n",
       "      <td>...</td>\n",
       "      <td>0.000000</td>\n",
       "      <td>0.010050</td>\n",
       "      <td>0.125628</td>\n",
       "      <td>0.000000</td>\n",
       "      <td>0.000000</td>\n",
       "      <td>0.000000</td>\n",
       "      <td>0.000000</td>\n",
       "      <td>0.000000</td>\n",
       "      <td>0.000000</td>\n",
       "      <td>0.00000</td>\n",
       "    </tr>\n",
       "    <tr>\n",
       "      <th>Partly Cloudy</th>\n",
       "      <td>0.000000</td>\n",
       "      <td>0.000000</td>\n",
       "      <td>0.00000</td>\n",
       "      <td>0.000000</td>\n",
       "      <td>0.000000</td>\n",
       "      <td>0.028302</td>\n",
       "      <td>0.000000</td>\n",
       "      <td>0.000000</td>\n",
       "      <td>0.000000</td>\n",
       "      <td>0.000000</td>\n",
       "      <td>...</td>\n",
       "      <td>0.000000</td>\n",
       "      <td>0.000000</td>\n",
       "      <td>0.000000</td>\n",
       "      <td>0.000000</td>\n",
       "      <td>0.000000</td>\n",
       "      <td>0.000000</td>\n",
       "      <td>0.000000</td>\n",
       "      <td>0.000000</td>\n",
       "      <td>0.009434</td>\n",
       "      <td>0.00000</td>\n",
       "    </tr>\n",
       "    <tr>\n",
       "      <th>Rain</th>\n",
       "      <td>0.000000</td>\n",
       "      <td>0.000000</td>\n",
       "      <td>0.00000</td>\n",
       "      <td>0.000000</td>\n",
       "      <td>0.000000</td>\n",
       "      <td>0.000000</td>\n",
       "      <td>0.000000</td>\n",
       "      <td>0.000000</td>\n",
       "      <td>0.000000</td>\n",
       "      <td>0.000000</td>\n",
       "      <td>...</td>\n",
       "      <td>0.000000</td>\n",
       "      <td>0.000000</td>\n",
       "      <td>0.000000</td>\n",
       "      <td>0.000000</td>\n",
       "      <td>0.000000</td>\n",
       "      <td>0.000000</td>\n",
       "      <td>0.000000</td>\n",
       "      <td>0.000000</td>\n",
       "      <td>0.000000</td>\n",
       "      <td>0.00000</td>\n",
       "    </tr>\n",
       "    <tr>\n",
       "      <th>Rain Showers</th>\n",
       "      <td>0.000000</td>\n",
       "      <td>0.000000</td>\n",
       "      <td>0.00000</td>\n",
       "      <td>0.000000</td>\n",
       "      <td>0.000000</td>\n",
       "      <td>0.000000</td>\n",
       "      <td>0.000000</td>\n",
       "      <td>0.000000</td>\n",
       "      <td>0.000000</td>\n",
       "      <td>0.000000</td>\n",
       "      <td>...</td>\n",
       "      <td>0.000000</td>\n",
       "      <td>0.000000</td>\n",
       "      <td>0.000000</td>\n",
       "      <td>0.000000</td>\n",
       "      <td>0.000000</td>\n",
       "      <td>0.000000</td>\n",
       "      <td>0.000000</td>\n",
       "      <td>0.000000</td>\n",
       "      <td>0.000000</td>\n",
       "      <td>0.00000</td>\n",
       "    </tr>\n",
       "    <tr>\n",
       "      <th>Scattered Clouds</th>\n",
       "      <td>0.000000</td>\n",
       "      <td>0.000000</td>\n",
       "      <td>0.00000</td>\n",
       "      <td>0.006024</td>\n",
       "      <td>0.000000</td>\n",
       "      <td>0.036145</td>\n",
       "      <td>0.000000</td>\n",
       "      <td>0.000000</td>\n",
       "      <td>0.036145</td>\n",
       "      <td>0.000000</td>\n",
       "      <td>...</td>\n",
       "      <td>0.000000</td>\n",
       "      <td>0.006024</td>\n",
       "      <td>0.006024</td>\n",
       "      <td>0.000000</td>\n",
       "      <td>0.000000</td>\n",
       "      <td>0.000000</td>\n",
       "      <td>0.000000</td>\n",
       "      <td>0.000000</td>\n",
       "      <td>0.012048</td>\n",
       "      <td>0.00000</td>\n",
       "    </tr>\n",
       "    <tr>\n",
       "      <th>Shallow Fog</th>\n",
       "      <td>0.000000</td>\n",
       "      <td>0.000000</td>\n",
       "      <td>0.00000</td>\n",
       "      <td>0.358209</td>\n",
       "      <td>0.000000</td>\n",
       "      <td>0.343284</td>\n",
       "      <td>0.000000</td>\n",
       "      <td>0.000000</td>\n",
       "      <td>0.000000</td>\n",
       "      <td>0.000000</td>\n",
       "      <td>...</td>\n",
       "      <td>0.000000</td>\n",
       "      <td>0.000000</td>\n",
       "      <td>0.000000</td>\n",
       "      <td>0.000000</td>\n",
       "      <td>0.000000</td>\n",
       "      <td>0.000000</td>\n",
       "      <td>0.000000</td>\n",
       "      <td>0.000000</td>\n",
       "      <td>0.000000</td>\n",
       "      <td>0.00000</td>\n",
       "    </tr>\n",
       "    <tr>\n",
       "      <th>Thunderstorms and Rain</th>\n",
       "      <td>0.000000</td>\n",
       "      <td>0.000000</td>\n",
       "      <td>0.00000</td>\n",
       "      <td>0.000000</td>\n",
       "      <td>0.000000</td>\n",
       "      <td>0.000000</td>\n",
       "      <td>0.000000</td>\n",
       "      <td>0.000000</td>\n",
       "      <td>0.000000</td>\n",
       "      <td>0.000000</td>\n",
       "      <td>...</td>\n",
       "      <td>0.000000</td>\n",
       "      <td>0.000000</td>\n",
       "      <td>0.000000</td>\n",
       "      <td>0.000000</td>\n",
       "      <td>0.000000</td>\n",
       "      <td>0.000000</td>\n",
       "      <td>0.000000</td>\n",
       "      <td>0.000000</td>\n",
       "      <td>0.000000</td>\n",
       "      <td>0.00000</td>\n",
       "    </tr>\n",
       "    <tr>\n",
       "      <th>Unknown</th>\n",
       "      <td>0.000000</td>\n",
       "      <td>0.000000</td>\n",
       "      <td>0.00000</td>\n",
       "      <td>0.090909</td>\n",
       "      <td>0.000000</td>\n",
       "      <td>0.772727</td>\n",
       "      <td>0.000000</td>\n",
       "      <td>0.000000</td>\n",
       "      <td>0.000000</td>\n",
       "      <td>0.000000</td>\n",
       "      <td>...</td>\n",
       "      <td>0.000000</td>\n",
       "      <td>0.000000</td>\n",
       "      <td>0.000000</td>\n",
       "      <td>0.000000</td>\n",
       "      <td>0.000000</td>\n",
       "      <td>0.000000</td>\n",
       "      <td>0.000000</td>\n",
       "      <td>0.000000</td>\n",
       "      <td>0.000000</td>\n",
       "      <td>0.00000</td>\n",
       "    </tr>\n",
       "  </tbody>\n",
       "</table>\n",
       "<p>14 rows × 61 columns</p>\n",
       "</div>"
      ],
      "text/plain": [
       "                                  1321      1421     1431      1434      1441  \\\n",
       "Clear                         0.002478  0.002478  0.04461  0.000000  0.039653   \n",
       "Fog                           0.000000  0.000000  0.00000  0.000000  0.000000   \n",
       "Light Rain                    0.000000  0.000000  0.00000  0.000000  0.000000   \n",
       "Light Rain Showers            0.000000  0.000000  0.00000  0.000000  0.000000   \n",
       "Light Thunderstorms and Rain  0.000000  0.000000  0.00000  0.000000  0.000000   \n",
       "Mist                          0.000000  0.000000  0.00000  0.000000  0.000000   \n",
       "Mostly Cloudy                 0.000000  0.000000  0.00000  0.005025  0.000000   \n",
       "Partly Cloudy                 0.000000  0.000000  0.00000  0.000000  0.000000   \n",
       "Rain                          0.000000  0.000000  0.00000  0.000000  0.000000   \n",
       "Rain Showers                  0.000000  0.000000  0.00000  0.000000  0.000000   \n",
       "Scattered Clouds              0.000000  0.000000  0.00000  0.006024  0.000000   \n",
       "Shallow Fog                   0.000000  0.000000  0.00000  0.358209  0.000000   \n",
       "Thunderstorms and Rain        0.000000  0.000000  0.00000  0.000000  0.000000   \n",
       "Unknown                       0.000000  0.000000  0.00000  0.090909  0.000000   \n",
       "\n",
       "                                  1444      2221      2231      2234  \\\n",
       "Clear                         0.000000  0.001239  0.002478  0.000000   \n",
       "Fog                           0.000000  0.000000  0.000000  0.000000   \n",
       "Light Rain                    0.000000  0.000000  0.000000  0.000000   \n",
       "Light Rain Showers            0.000000  0.000000  0.000000  0.000000   \n",
       "Light Thunderstorms and Rain  0.000000  0.000000  0.000000  0.000000   \n",
       "Mist                          0.333333  0.000000  0.000000  0.000000   \n",
       "Mostly Cloudy                 0.015075  0.000000  0.000000  0.000000   \n",
       "Partly Cloudy                 0.028302  0.000000  0.000000  0.000000   \n",
       "Rain                          0.000000  0.000000  0.000000  0.000000   \n",
       "Rain Showers                  0.000000  0.000000  0.000000  0.000000   \n",
       "Scattered Clouds              0.036145  0.000000  0.000000  0.036145   \n",
       "Shallow Fog                   0.343284  0.000000  0.000000  0.000000   \n",
       "Thunderstorms and Rain        0.000000  0.000000  0.000000  0.000000   \n",
       "Unknown                       0.772727  0.000000  0.000000  0.000000   \n",
       "\n",
       "                                  2241  ...      3431      3434      3444  \\\n",
       "Clear                         0.001239  ...  0.001239  0.000000  0.000000   \n",
       "Fog                           0.000000  ...  0.000000  0.000000  0.000000   \n",
       "Light Rain                    0.000000  ...  0.000000  0.000000  0.000000   \n",
       "Light Rain Showers            0.000000  ...  0.000000  0.000000  0.000000   \n",
       "Light Thunderstorms and Rain  0.000000  ...  0.000000  0.000000  0.000000   \n",
       "Mist                          0.000000  ...  0.000000  0.000000  0.000000   \n",
       "Mostly Cloudy                 0.000000  ...  0.000000  0.010050  0.125628   \n",
       "Partly Cloudy                 0.000000  ...  0.000000  0.000000  0.000000   \n",
       "Rain                          0.000000  ...  0.000000  0.000000  0.000000   \n",
       "Rain Showers                  0.000000  ...  0.000000  0.000000  0.000000   \n",
       "Scattered Clouds              0.000000  ...  0.000000  0.006024  0.006024   \n",
       "Shallow Fog                   0.000000  ...  0.000000  0.000000  0.000000   \n",
       "Thunderstorms and Rain        0.000000  ...  0.000000  0.000000  0.000000   \n",
       "Unknown                       0.000000  ...  0.000000  0.000000  0.000000   \n",
       "\n",
       "                                  4121      4131      4141      4221  \\\n",
       "Clear                         0.018587  0.002478  0.006196  0.002478   \n",
       "Fog                           0.000000  0.000000  0.000000  0.000000   \n",
       "Light Rain                    0.000000  0.000000  0.000000  0.000000   \n",
       "Light Rain Showers            0.000000  0.000000  0.000000  0.000000   \n",
       "Light Thunderstorms and Rain  0.000000  0.000000  0.000000  0.000000   \n",
       "Mist                          0.000000  0.000000  0.000000  0.000000   \n",
       "Mostly Cloudy                 0.000000  0.000000  0.000000  0.000000   \n",
       "Partly Cloudy                 0.000000  0.000000  0.000000  0.000000   \n",
       "Rain                          0.000000  0.000000  0.000000  0.000000   \n",
       "Rain Showers                  0.000000  0.000000  0.000000  0.000000   \n",
       "Scattered Clouds              0.000000  0.000000  0.000000  0.000000   \n",
       "Shallow Fog                   0.000000  0.000000  0.000000  0.000000   \n",
       "Thunderstorms and Rain        0.000000  0.000000  0.000000  0.000000   \n",
       "Unknown                       0.000000  0.000000  0.000000  0.000000   \n",
       "\n",
       "                                  4231      4234     4241  \n",
       "Clear                         0.004957  0.000000  0.01487  \n",
       "Fog                           0.000000  0.000000  0.00000  \n",
       "Light Rain                    0.000000  0.000000  0.00000  \n",
       "Light Rain Showers            0.000000  0.000000  0.00000  \n",
       "Light Thunderstorms and Rain  0.000000  0.000000  0.00000  \n",
       "Mist                          0.000000  0.000000  0.00000  \n",
       "Mostly Cloudy                 0.000000  0.000000  0.00000  \n",
       "Partly Cloudy                 0.000000  0.009434  0.00000  \n",
       "Rain                          0.000000  0.000000  0.00000  \n",
       "Rain Showers                  0.000000  0.000000  0.00000  \n",
       "Scattered Clouds              0.000000  0.012048  0.00000  \n",
       "Shallow Fog                   0.000000  0.000000  0.00000  \n",
       "Thunderstorms and Rain        0.000000  0.000000  0.00000  \n",
       "Unknown                       0.000000  0.000000  0.00000  \n",
       "\n",
       "[14 rows x 61 columns]"
      ]
     },
     "execution_count": 13,
     "metadata": {},
     "output_type": "execute_result"
    }
   ],
   "source": [
    "import pandas as pd\n",
    "pd.DataFrame(a.ep, index=a.states, columns=a.observations)"
   ]
  },
  {
   "cell_type": "markdown",
   "metadata": {},
   "source": [
    "## Viterbi - odkrycie ścieżki stanów pogodowych mając daną sekwencję obserwacji"
   ]
  },
  {
   "cell_type": "code",
   "execution_count": 14,
   "metadata": {},
   "outputs": [
    {
     "name": "stdout",
     "output_type": "stream",
     "text": [
      "VI ClearClearClearClearClearClearClearClearClearClearClearClearClearClearClearClearClearClearClearClearClearClearClearClearClearClearClearClearClearClearClearClearClearClearClearClearClearClearClearClearClearClearClearClearClearClearClearClearClearClearClearClearClearClearClearPartly CloudyPartly CloudyPartly CloudyPartly CloudyPartly CloudyClearPartly CloudyPartly CloudyPartly CloudyScattered CloudsScattered CloudsScattered CloudsPartly CloudyPartly CloudyPartly CloudyPartly CloudyPartly CloudyPartly CloudyPartly CloudyPartly CloudyPartly CloudyPartly CloudyPartly CloudyPartly CloudyClearClearClearClearClearClearClearClearClearClearClearClearClearClearClearClearClearClearClearClearClearClearClearClearClearClearClearClearClearClearPartly CloudyLight Rain ShowersLight Rain ShowersLight Rain ShowersLight Rain ShowersLight Rain ShowersLight Rain ShowersLight Rain ShowersLight Rain ShowersLight Rain ShowersLight Rain ShowersLight Rain ShowersLight Rain ShowersLight Rain ShowersLight Rain ShowersLight Rain ShowersLight Rain ShowersLight Rain ShowersLight Rain ShowersLight Rain ShowersLight Rain ShowersLight Rain ShowersLight Rain ShowersThunderstorms and RainMostly CloudyLight RainLight RainLight RainClearClearClearClearClearClearClearClearClearClearClearClearClearClearClearClearClearClearClearClearClearClearClearClearClearPartly CloudyPartly CloudyPartly CloudyPartly CloudyScattered CloudsScattered CloudsScattered CloudsScattered CloudsScattered CloudsScattered CloudsClearClearClearClearClearClearClearClearClearClearClearClearClearClearClearClearClearClearClearClearClearLight RainLight RainLight RainLight RainClearClearClearClearClearClearClearClearLight RainLight RainLight RainLight RainLight RainLight RainLight RainLight RainLight RainLight RainLight RainLight RainLight RainLight RainLight RainMostly CloudyMostly CloudyMostly CloudyMostly CloudyMostly CloudyMostly CloudyMostly CloudyMostly CloudyMostly CloudyLight RainClearScattered CloudsScattered CloudsScattered CloudsScattered CloudsClearScattered CloudsClearClearPartly CloudyClearClearScattered CloudsScattered CloudsScattered CloudsScattered CloudsPartly CloudyMistMistMistMistMistMistMistMistShallow FogPartly CloudyMistMistMistMistMistMistMistShallow FogPartly CloudyPartly CloudyPartly CloudyPartly CloudyPartly CloudyPartly CloudyPartly CloudyPartly CloudyPartly CloudyPartly CloudyPartly CloudyPartly CloudyPartly CloudyPartly CloudyClearClearClearClearClearClearClearClearClearClearClearClearClearClearClearClearClearClearClearClearClearClearClearPartly CloudyPartly CloudyClearClearClearClearClearClearPartly CloudyPartly CloudyPartly CloudyPartly CloudyPartly CloudyPartly CloudyPartly CloudyPartly CloudyPartly CloudyPartly CloudyPartly CloudyPartly CloudyClearPartly CloudyClearClearClearClearClearClearClearClearClearClearClearClearClearClearClearClearClearClearClearClearClearClearClearClearClearClearClearClearClearClearClearClearClearClearClearClearClearClearClearClearClearClearClearClearClearClearClearClearClearClearClearClearClearClearClearClearClearClearClearClearClearClearClearClearClearClearClearClearClearClearClearClearClearClearClearClearClearClearClearClearClearClearClearClearClearClearClearClearClearClearClearClearClearClearClearClearClearClearClearClearClearClearClearClearClearClearClearClearClearClearClearClearClearClearClearClearClearClearShallow FogShallow FogShallow FogShallow FogClearMostly CloudyFogFogFogMostly CloudyMostly CloudyMostly CloudyMostly CloudyMostly CloudyMostly CloudyMostly CloudyMostly CloudyMostly CloudyMostly CloudyMostly CloudyMostly CloudyMostly CloudyMostly CloudyMostly CloudyMostly CloudyMostly CloudyMostly CloudyMostly CloudyMostly CloudyMostly CloudyMostly CloudyMostly CloudyMostly CloudyClearClearClearClearClearMostly CloudyFogFogFogFogFogFogFogMostly CloudyClearClearMostly CloudyFogFogFogFogFogFogMostly CloudyScattered CloudsPartly CloudyPartly CloudyPartly CloudyPartly CloudyPartly CloudyPartly CloudyPartly CloudyPartly CloudyPartly CloudyPartly CloudyPartly CloudyPartly CloudyPartly CloudyPartly CloudyPartly CloudyPartly CloudyPartly CloudyPartly CloudyPartly CloudyPartly CloudyClearClearClearShallow FogShallow FogShallow FogShallow FogClearClearClearClearClearClearClearClearClearUnknownUnknownUnknownUnknownUnknownUnknownUnknownClearClearClearClearClearScattered CloudsScattered CloudsScattered CloudsScattered CloudsScattered CloudsScattered CloudsScattered CloudsScattered CloudsScattered CloudsScattered CloudsScattered CloudsScattered CloudsScattered CloudsScattered CloudsScattered CloudsClearClearClearClearScattered CloudsScattered CloudsScattered CloudsScattered CloudsScattered CloudsScattered CloudsClearClearClearClearClearClearClearClearClearClearClearClearClearClearClearClearLight RainLight RainLight RainLight RainLight RainLight RainLight RainLight RainLight RainLight RainLight RainLight RainLight RainLight RainLight RainLight RainLight RainLight RainLight RainLight RainLight RainLight RainLight RainLight RainLight RainLight RainLight Rain ShowersLight Rain ShowersLight Rain ShowersPartly CloudyClearClearClearClearClearClearClearClearClearClearClearClearClearClearPartly CloudyMistMistMistMistMistMistShallow FogClearClearClearClearClearPartly CloudyPartly CloudyPartly CloudyPartly CloudyPartly CloudyPartly CloudyPartly CloudyPartly CloudyPartly CloudyPartly CloudyPartly CloudyPartly CloudyClearClearClearClearClearClearClearClearClearClearClearClearClearClearClearClearClearClearClearClearClearClearClearClearClearClearClearClearClearClearClearClearClearClearClearClearClearClearClearClearClearClearClearClearClearClearClearClearClearClearClearClearClearClearClearPartly CloudyMistMistMistMistMistMistMistMistMistMistMistMistMistMistMistMistShallow FogClearClearClearClearClearClearClearClearClearClearClearClearClearPartly CloudyPartly CloudyPartly CloudyPartly CloudyPartly CloudyPartly CloudyPartly CloudyPartly CloudyPartly CloudyPartly CloudyClearClearClearClearClearClearClearClearClearClearClearClearClearClearClearPartly CloudyClearClearClearClearClearClearClearShallow FogShallow FogShallow FogShallow FogShallow FogShallow FogShallow FogShallow FogShallow FogShallow FogShallow FogClearPartly CloudyPartly CloudyPartly CloudyPartly CloudyPartly CloudyPartly CloudyPartly CloudyPartly CloudyPartly CloudyPartly CloudyPartly CloudyPartly CloudyPartly CloudyPartly CloudyPartly CloudyClearPartly CloudyPartly CloudyMistMistMistMistMistShallow FogClearClearClearClearClearClearClearUnknownUnknownUnknownUnknownUnknownUnknownUnknownUnknownUnknownUnknownClearClearClearClearClearClearClearClearClearPartly CloudyPartly CloudyPartly CloudyClearClearClearClearClearClearClearClearClearClearClearClearClearClearClearClearClearClearClearClearClearClearClearClearClearClearClearClearClearClearClearClearClearClearClearClearClearClearClearClearClearClearClearClearClearClearClearClearClearClearClearClearClearClearClearClearClearClearClearClearClearClearClearClearClearClearClearClearClearClearClearClearClearClearClearClearClearClearClearClearClearClearClearClearClearClearClearClearClearClearClearClearClearClearClearClearClearClearClearClearClearClearClearClearClearClearClearClearClearClearClearClearClearClearClearClearClearClearClearClearClearClearClearClearShallow FogShallow FogShallow FogShallow FogShallow FogShallow FogPartly CloudyScattered CloudsMostly CloudyFogFogFogFogMostly CloudyMostly CloudyScattered CloudsScattered CloudsScattered CloudsScattered CloudsScattered CloudsScattered CloudsScattered CloudsScattered CloudsScattered CloudsScattered CloudsScattered CloudsScattered CloudsScattered CloudsScattered CloudsClearClearClearClearClearClearClearClearClearClearClearClearClearClearClearClearClearClearClearClearClearClearUnknownUnknownUnknownUnknownUnknownUnknownClearClearClearClearClearClearClearClearClearClearClearClearClearClearClearClearClearClearClearClearClearClearClearClearClearClearClearClearClearClearClearClearClearClearClearClearClearClearClearClearClearClearClearClearClearClearClearClearPartly CloudyClearClearClearPartly CloudyPartly CloudyPartly CloudyPartly CloudyClearClearPartly CloudyPartly CloudyPartly CloudyPartly CloudyPartly CloudyPartly CloudyPartly CloudyPartly CloudyPartly CloudyPartly CloudyPartly CloudyPartly CloudyPartly CloudyClearClearClearClearClearClearClearClearClearClearClearClearClearClearClearClearClearClearClearClearClearClearShallow FogClearPartly CloudyClearClearClearScattered CloudsScattered CloudsScattered CloudsScattered CloudsScattered CloudsScattered CloudsScattered CloudsScattered CloudsScattered CloudsScattered CloudsScattered CloudsScattered CloudsScattered CloudsScattered CloudsScattered CloudsClearClearClearScattered CloudsScattered CloudsScattered CloudsScattered CloudsScattered CloudsScattered CloudsScattered CloudsClearClearClearClearClearClearClearClearClearClearClearClearClearClearClearClearScattered CloudsScattered CloudsMostly CloudyFogFogFogFogFogFogFogMostly CloudyMostly CloudyScattered CloudsScattered CloudsScattered CloudsScattered CloudsScattered CloudsScattered CloudsScattered CloudsScattered CloudsScattered CloudsScattered CloudsScattered CloudsScattered CloudsMostly CloudyMostly CloudyMostly CloudyMostly CloudyClearClearClearClearClearClearClearClearClearClearClearClearClearClearClearClearUnknownUnknownUnknownUnknownUnknownUnknownUnknownUnknownShallow FogShallow FogShallow FogShallow FogShallow FogShallow FogPartly CloudyPartly CloudyPartly CloudyPartly CloudyPartly CloudyPartly CloudyPartly CloudyPartly CloudyPartly CloudyPartly CloudyPartly CloudyPartly CloudyPartly CloudyPartly CloudyPartly CloudyShallow FogShallow FogShallow FogShallow FogShallow FogShallow FogUnknownUnknownUnknownUnknownUnknownUnknownUnknownUnknownUnknownUnknownUnknownUnknownUnknownUnknownUnknownUnknownUnknownUnknownUnknownUnknownUnknownUnknownClearClearClearClearClearClearClearClearClearClearClearClearClearClearClearClearClearClearClearClearClearClearClearClearClearClearClearClearClearClearClearClearClearClearClearShallow FogShallow FogShallow FogShallow FogShallow FogShallow FogShallow FogShallow FogShallow FogShallow FogShallow FogMistMistMistMistMistMistMistShallow FogPartly CloudyScattered CloudsMostly CloudyMostly CloudyMostly CloudyMostly CloudyMostly CloudyMostly CloudyMostly CloudyMostly CloudyMostly CloudyMostly CloudyMostly CloudyMostly CloudyMostly CloudyMostly CloudyLight RainLight RainLight RainLight RainLight RainLight RainLight RainLight RainLight RainLight RainLight RainLight RainLight RainLight RainLight RainLight RainLight RainLight RainClearLight RainLight RainLight RainLight RainLight RainLight RainLight RainLight RainLight RainLight RainLight RainLight RainLight RainLight RainLight RainLight RainLight RainLight RainLight RainLight RainLight RainLight RainLight RainClearClearClearClearClearClearClearClearClearClearClearClearClearClearClearClearClearClearClearClearClearClearClearShallow FogShallow FogShallow FogShallow FogClearClearClearClearClearClearClearClearClearScattered CloudsScattered CloudsScattered CloudsScattered CloudsScattered CloudsScattered CloudsScattered CloudsScattered CloudsScattered CloudsScattered CloudsScattered CloudsClearPartly CloudyClearClearClearClearClearClearClearClearClearClearClearScattered CloudsScattered Clouds\n",
      "NO ['2331', '2331', '2331', '2331', '2331', '2331', '2331', '2331', '2331', '2331', '2331', '2331', '2331', '2331', '2331', '2331', '3331', '3231', '3231', '3231', '3231', '3231', '4231', '4131', '4121', '4121', '4121', '4121', '4121', '4121', '4121', '4121', '4121', '4121', '4121', '4121', '4121', '4121', '4121', '4221', '4221', '3221', '3221', '3221', '3221', '3221', '3221', '3221', '3221', '3221', '3321', '3321', '3321', '3321', '3321', '3421', '3424', '3424', '3424', '3424', '3424', '3421', '3424', '3424', '3424', '3434', '3434', '3434', '3134', '3334', '3334', '3234', '3234', '3134', '4234', '3234', '3234', '4234', '4234', '3234', '3131', '4131', '3131', '3131', '3131', '3121', '3121', '3221', '3321', '2321', '2321', '2421', '2421', '2321', '2321', '2421', '2421', '2421', '2321', '3321', '3321', '3321', '3321', '3321', '3321', '3321', '3321', '3421', '3311', '3411', '3414', '3414', '3414', '3414', '3414', '3414', '3414', '3414', '3414', '3414', '3414', '3414', '3414', '3414', '3414', '3414', '3414', '3414', '3414', '3414', '3414', '3414', '3414', '3414', '3414', '2414', '2414', '2414', '2411', '2411', '2411', '2411', '2411', '2311', '2411', '2311', '2311', '2411', '2411', '2311', '2311', '2311', '2411', '2411', '2411', '2411', '2411', '2411', '2311', '2411', '2311', '2311', '2311', '3314', '3314', '3314', '3314', '3214', '3214', '3214', '3214', '3214', '3214', '3211', '3211', '3211', '3111', '3111', '3111', '3111', '3211', '3211', '3211', '3211', '2311', '2311', '2311', '2311', '2311', '2311', '2311', '2311', '2311', '2311', '2314', '2314', '2414', '2414', '2421', '2421', '2421', '2421', '2421', '2421', '2421', '2421', '2424', '2424', '2424', '2424', '2424', '2424', '2424', '2424', '2424', '2424', '2424', '2424', '2424', '2424', '2424', '3324', '3324', '3324', '3324', '2424', '2424', '2424', '3324', '3324', '2424', '2321', '2424', '2324', '2324', '2324', '2321', '2324', '2321', '2321', '2334', '2331', '2331', '2334', '2334', '2334', '2334', '2334', '2434', '2434', '2434', '2434', '2434', '2434', '2434', '2434', '2434', '2334', '2434', '2434', '2434', '2434', '2434', '2434', '2434', '2434', '3334', '3334', '3334', '3334', '3334', '3334', '3334', '3334', '3334', '3334', '3334', '3334', '3334', '3334', '3331', '2331', '2331', '2331', '2431', '2431', '2431', '2431', '2431', '2441', '2441', '2441', '2441', '2441', '2441', '2441', '2441', '2441', '2441', '2441', '2441', '2441', '2441', '2444', '2444', '2441', '2441', '2441', '3341', '3341', '3341', '3344', '3344', '3344', '3244', '3344', '3244', '3244', '3244', '3244', '3244', '3244', '3244', '3241', '3244', '3241', '3241', '3341', '3341', '2341', '2341', '2341', '2341', '2341', '2441', '2441', '2441', '2441', '2441', '2441', '2441', '2441', '2441', '2441', '2441', '2441', '2441', '2441', '2441', '2441', '2441', '2441', '2441', '2441', '3341', '3341', '3241', '3241', '3241', '3241', '3241', '3241', '3241', '4241', '4241', '4241', '4241', '4141', '4141', '4141', '4241', '4241', '4241', '4241', '3241', '3341', '3341', '3341', '3341', '2341', '2341', '2341', '3341', '2341', '2341', '3341', '3341', '2341', '2341', '2341', '2441', '2441', '2441', '2441', '2441', '2441', '2441', '2441', '2441', '2441', '2341', '3341', '3341', '3341', '3241', '3241', '3241', '3241', '3241', '3141', '3141', '4141', '4241', '4241', '4141', '4241', '3241', '4241', '3241', '3241', '3341', '3341', '3341', '3341', '3341', '3341', '2341', '2341', '2341', '3341', '2341', '2341', '2341', '2341', '2341', '2441', '2441', '2341', '2441', '2441', '2441', '2441', '2441', '2444', '2444', '2444', '2444', '2441', '2444', '2444', '2444', '2444', '3444', '3444', '3444', '3444', '3444', '3444', '3444', '3444', '3444', '3444', '3444', '3444', '3444', '3444', '3444', '3444', '3444', '3444', '3444', '3444', '3444', '3444', '3444', '3444', '2441', '2441', '2441', '2441', '2441', '2444', '2444', '2444', '2444', '2444', '2444', '2444', '2444', '2444', '2441', '2441', '2444', '2444', '2444', '2444', '2444', '2444', '2444', '3344', '3344', '3344', '3344', '3344', '3344', '3244', '3244', '3244', '3244', '3244', '3244', '3244', '3244', '3244', '3344', '3344', '3344', '3344', '3344', '3344', '2444', '2441', '2441', '2441', '2444', '2444', '2444', '2444', '2441', '2441', '2441', '2441', '2441', '2441', '1441', '2441', '1441', '1444', '1444', '1444', '1444', '1444', '1444', '1444', '2441', '2441', '2441', '2441', '3341', '3344', '3244', '3344', '3244', '3244', '3244', '3244', '3244', '3244', '3144', '3144', '3244', '3234', '3234', '3234', '3331', '3231', '3331', '2331', '2334', '2334', '2334', '2334', '2334', '2334', '2331', '2331', '2331', '2331', '2331', '2331', '2331', '2331', '2331', '2431', '2431', '2431', '2431', '2431', '2431', '2431', '2434', '2424', '2424', '2424', '2424', '2424', '2424', '2424', '2424', '2424', '2424', '2424', '2424', '2424', '2424', '2424', '2424', '2424', '2424', '2424', '2324', '2324', '2424', '2424', '2424', '2424', '2434', '2434', '2434', '2434', '2431', '2431', '2431', '2431', '2431', '2431', '2431', '2431', '2431', '2431', '2431', '2431', '2431', '2431', '2434', '2434', '2434', '2434', '2434', '2434', '2434', '2434', '2431', '2431', '2431', '2341', '3341', '3344', '3344', '3344', '3344', '3244', '3244', '3244', '3244', '3244', '3244', '3244', '3244', '3241', '3241', '3341', '3341', '3341', '3341', '3341', '2441', '2441', '2341', '2441', '2441', '2441', '2441', '2441', '2441', '2441', '2441', '2441', '2441', '2441', '2441', '2441', '2441', '2441', '2441', '2441', '2441', '2441', '2441', '2441', '2441', '2441', '2341', '3341', '3341', '3341', '3341', '3341', '3341', '3241', '3241', '3241', '3241', '3231', '3231', '3231', '3331', '3331', '3331', '3331', '3331', '3331', '3331', '2431', '2434', '2434', '2434', '2434', '2434', '2434', '2434', '2434', '2434', '2434', '2434', '2434', '2434', '2434', '2434', '2434', '2434', '2434', '2431', '2431', '2431', '2431', '2431', '2431', '2431', '2431', '3331', '3431', '3331', '3331', '3331', '3334', '3334', '3334', '3334', '3334', '3334', '3334', '3334', '3334', '3334', '3331', '3331', '3331', '3331', '2431', '2431', '2431', '2431', '2431', '2431', '2431', '2431', '2431', '2431', '2431', '2434', '2431', '2431', '2431', '1431', '1431', '1431', '1431', '1434', '1434', '1434', '1434', '1434', '1434', '1434', '2434', '2434', '2434', '2434', '3331', '3234', '3334', '3234', '3334', '3234', '3334', '3234', '3234', '3334', '3234', '3334', '3234', '3234', '3234', '3234', '2331', '2334', '2334', '2434', '2434', '2434', '2434', '2434', '2434', '2431', '2431', '2431', '2431', '2431', '2431', '1431', '1444', '1444', '1444', '1444', '1444', '1444', '1444', '1444', '1444', '1444', '2441', '2441', '2441', '2441', '2341', '2341', '3341', '3341', '3341', '3244', '3244', '3244', '3241', '3241', '3141', '3241', '3241', '3141', '3241', '3141', '3141', '3141', '3241', '3341', '2241', '2341', '2341', '2341', '2341', '2341', '2341', '2341', '2341', '2341', '2341', '2341', '2341', '2341', '2341', '2341', '2341', '2341', '2341', '2341', '2341', '2341', '2341', '2341', '2341', '2341', '2341', '2341', '2341', '3241', '3241', '3241', '3241', '3241', '3231', '3231', '3231', '3231', '3131', '3131', '3131', '3131', '3131', '3131', '3131', '3131', '3231', '3231', '3231', '2231', '2231', '2331', '2331', '2331', '2331', '2331', '2331', '2331', '2331', '2331', '2331', '2331', '2331', '2331', '2331', '2331', '2431', '2431', '2431', '2431', '2431', '1431', '2431', '2431', '2331', '2331', '2331', '2331', '2331', '3331', '3331', '3231', '3231', '3231', '3231', '3231', '4231', '3231', '4231', '3231', '4231', '3231', '3231', '3231', '3331', '3331', '3331', '2431', '2431', '2431', '2431', '2431', '2431', '2431', '2431', '2431', '2431', '2431', '2431', '2431', '2431', '2431', '1434', '1434', '1434', '1434', '1434', '2434', '2434', '2434', '2434', '2444', '2444', '2444', '2444', '3444', '3444', '3344', '3344', '3344', '3344', '3244', '3244', '3244', '3344', '3344', '3344', '3244', '3344', '3244', '3244', '3341', '2341', '2341', '2341', '2441', '2441', '2441', '2441', '1441', '1441', '1441', '1441', '1441', '1441', '1441', '1441', '1441', '1441', '2441', '1441', '1441', '1441', '1444', '1444', '1444', '1444', '1444', '1444', '2441', '2441', '2441', '2441', '2341', '3341', '3341', '3341', '3241', '3241', '3241', '3241', '3241', '3141', '3131', '3131', '3131', '3131', '3131', '3131', '3231', '3231', '3231', '3231', '3231', '3231', '3231', '3231', '3231', '3231', '3231', '3231', '3231', '2331', '2331', '2331', '2331', '2331', '2331', '2431', '2331', '2431', '2431', '2431', '2331', '2331', '2431', '2431', '2434', '2331', '2331', '2331', '2334', '3334', '3334', '3334', '3331', '3331', '3234', '3234', '3234', '3234', '3234', '3234', '3234', '3334', '3334', '3334', '3334', '3334', '3334', '3331', '2331', '2331', '2331', '2331', '2331', '2331', '2331', '2331', '2331', '2331', '2331', '2331', '2331', '2331', '2331', '2331', '2431', '2431', '2431', '2431', '2431', '1434', '2431', '2434', '2431', '2431', '2431', '2334', '2334', '2334', '2334', '3234', '3234', '3234', '3234', '3234', '3234', '3234', '3234', '3234', '3234', '3234', '3231', '3231', '3231', '3234', '2334', '2334', '2434', '2434', '2434', '2434', '2431', '2431', '2431', '2431', '2431', '2431', '2431', '2431', '1431', '1431', '1431', '1431', '1441', '2441', '2441', '2441', '1444', '1444', '1444', '2444', '2444', '2444', '2444', '2444', '2444', '2444', '2344', '2344', '3344', '3344', '3244', '3244', '3244', '3344', '3344', '3244', '3244', '3244', '3344', '3344', '2344', '2344', '2344', '2344', '2441', '2441', '2441', '1441', '1441', '1441', '1441', '1441', '1441', '1441', '1441', '1441', '1441', '1441', '1441', '1441', '1444', '1444', '1444', '1444', '1444', '1444', '1444', '1444', '2444', '2444', '2444', '2444', '2444', '2444', '3344', '3344', '3344', '3244', '3244', '3244', '3344', '3344', '3344', '3244', '3244', '3244', '3344', '3344', '3344', '2444', '2444', '2444', '2444', '2444', '2444', '1444', '1444', '1444', '1444', '1444', '1444', '1444', '1444', '1444', '1444', '1444', '1444', '1444', '1444', '1444', '1444', '1444', '1444', '1444', '1444', '1444', '2444', '2441', '2441', '2341', '2341', '3341', '3341', '3241', '3241', '3241', '3241', '3241', '3241', '3241', '3241', '3241', '3241', '3241', '3241', '3241', '3241', '2341', '2441', '2441', '2441', '2441', '2441', '2441', '2441', '1441', '1441', '1441', '1431', '1431', '1431', '1431', '1434', '1434', '1434', '1434', '1434', '1434', '1434', '1434', '1434', '1434', '1434', '2434', '2434', '2434', '2434', '2434', '2434', '2434', '2434', '2334', '2334', '3334', '3334', '3334', '3334', '2434', '2434', '2434', '2434', '2434', '3334', '2434', '2434', '2434', '2434', '2424', '2424', '2424', '2424', '2424', '2424', '2424', '2424', '2424', '2424', '2424', '2424', '2424', '2424', '2424', '2424', '2424', '2424', '2421', '2424', '2424', '2424', '2424', '2424', '2424', '2424', '2424', '2424', '2424', '2424', '2424', '2424', '2424', '2424', '2424', '2424', '2424', '2424', '2424', '2324', '2324', '2324', '2221', '2321', '2321', '1321', '1321', '1421', '1421', '1431', '1431', '1431', '1431', '1431', '1431', '1431', '1431', '1431', '1431', '1431', '1431', '1431', '1431', '1431', '1431', '1434', '1434', '1434', '1434', '1431', '1431', '1431', '1431', '1431', '1431', '2431', '2331', '2331', '2334', '2334', '2334', '2234', '2234', '2234', '2234', '2234', '2234', '2334', '2334', '2331', '2334', '2331', '2321', '2321', '2321', '2321', '2321', '2321', '2321', '2321', '2321', '2321', '2324']\n"
     ]
    }
   ],
   "source": [
    "vs, vsi = a.viterbi(obs_seq)\n",
    "# states sequence\n",
    "print(\"VI\", \"\".join(vs))\n",
    "# observations\n",
    "print(\"NO\", obs_seq)"
   ]
  },
  {
   "cell_type": "markdown",
   "metadata": {},
   "source": [
    "## Podział danych na sekwencje uczące i testujące. "
   ]
  },
  {
   "cell_type": "code",
   "execution_count": 15,
   "metadata": {},
   "outputs": [],
   "source": [
    "# from sklearn import preprocessing\n",
    "# states_encoder = preprocessing.LabelEncoder()\n",
    "# sts_seq = states_encoder.fit_transform(sts_seq)\n",
    "# sts_seq"
   ]
  },
  {
   "cell_type": "code",
   "execution_count": 16,
   "metadata": {},
   "outputs": [],
   "source": [
    "# observations_encoder = preprocessing.LabelEncoder()\n",
    "# obs_seq = observations_encoder.fit_transform(obs_seq)\n",
    "# obs_seq"
   ]
  },
  {
   "cell_type": "code",
   "execution_count": 17,
   "metadata": {},
   "outputs": [],
   "source": [
    "T = 24  # dlugosc pojedynczej sekwencji"
   ]
  },
  {
   "cell_type": "code",
   "execution_count": 18,
   "metadata": {},
   "outputs": [],
   "source": [
    "observations_joined = [obs_seq[i:i+T] for i in range(0, len(obs_seq), T)]\n",
    "states_joined = [sts_seq[i:i+T] for i in range(0, len(sts_seq), T)]"
   ]
  },
  {
   "cell_type": "code",
   "execution_count": 19,
   "metadata": {},
   "outputs": [],
   "source": [
    "from sklearn.model_selection import train_test_split\n",
    "states_train, states_test, observations_train, observations_test = train_test_split(states_joined, observations_joined, test_size=0.3, random_state=42)"
   ]
  },
  {
   "cell_type": "code",
   "execution_count": 20,
   "metadata": {},
   "outputs": [
    {
     "data": {
      "text/plain": [
       "['Clear',\n",
       " 'Clear',\n",
       " 'Clear',\n",
       " 'Clear',\n",
       " 'Clear',\n",
       " 'Clear',\n",
       " 'Clear',\n",
       " 'Shallow Fog',\n",
       " 'Shallow Fog',\n",
       " 'Shallow Fog',\n",
       " 'Shallow Fog',\n",
       " 'Shallow Fog',\n",
       " 'Unknown',\n",
       " 'Shallow Fog',\n",
       " 'Shallow Fog',\n",
       " 'Shallow Fog',\n",
       " 'Shallow Fog',\n",
       " 'Mostly Cloudy',\n",
       " 'Mostly Cloudy',\n",
       " 'Mostly Cloudy',\n",
       " 'Mostly Cloudy',\n",
       " 'Mostly Cloudy',\n",
       " 'Mostly Cloudy',\n",
       " 'Mostly Cloudy']"
      ]
     },
     "execution_count": 20,
     "metadata": {},
     "output_type": "execute_result"
    }
   ],
   "source": [
    "states_train[0]"
   ]
  },
  {
   "cell_type": "code",
   "execution_count": 21,
   "metadata": {},
   "outputs": [
    {
     "data": {
      "text/plain": [
       "['2431',\n",
       " '2431',\n",
       " '2431',\n",
       " '2431',\n",
       " '2431',\n",
       " '2431',\n",
       " '2431',\n",
       " '1434',\n",
       " '1434',\n",
       " '1434',\n",
       " '1434',\n",
       " '1434',\n",
       " '2434',\n",
       " '2434',\n",
       " '2434',\n",
       " '2434',\n",
       " '2444',\n",
       " '2444',\n",
       " '2444',\n",
       " '2444',\n",
       " '3444',\n",
       " '3444',\n",
       " '3344',\n",
       " '3344']"
      ]
     },
     "execution_count": 21,
     "metadata": {},
     "output_type": "execute_result"
    }
   ],
   "source": [
    "observations_train[0]"
   ]
  },
  {
   "cell_type": "markdown",
   "metadata": {},
   "source": [
    "## Nastroić model Markova za pomocą reestymacji Bauma-Welcha"
   ]
  },
  {
   "cell_type": "code",
   "execution_count": 22,
   "metadata": {},
   "outputs": [],
   "source": [
    "b = hmm.HiddenMarkovModel().from_baum_welch(observations_train[0], states=a.states)"
   ]
  },
  {
   "cell_type": "code",
   "execution_count": 23,
   "metadata": {},
   "outputs": [
    {
     "data": {
      "text/plain": [
       "array(['Clear', 'Clear', 'Clear', 'Clear', 'Clear', 'Clear', 'Clear',\n",
       "       'Clear', 'Clear', 'Clear', 'Clear', 'Clear', 'Clear', 'Clear',\n",
       "       'Clear', 'Shallow Fog', 'Shallow Fog', 'Shallow Fog',\n",
       "       'Shallow Fog', 'Shallow Fog', 'Shallow Fog', 'Clear', 'Clear',\n",
       "       'Clear'], dtype='<U28')"
      ]
     },
     "execution_count": 23,
     "metadata": {},
     "output_type": "execute_result"
    }
   ],
   "source": [
    "vs, vsi = a.viterbi(observations_train[0])\n",
    "vs"
   ]
  },
  {
   "cell_type": "code",
   "execution_count": 24,
   "metadata": {},
   "outputs": [
    {
     "data": {
      "text/plain": [
       "['Clear',\n",
       " 'Clear',\n",
       " 'Clear',\n",
       " 'Clear',\n",
       " 'Clear',\n",
       " 'Clear',\n",
       " 'Clear',\n",
       " 'Shallow Fog',\n",
       " 'Shallow Fog',\n",
       " 'Shallow Fog',\n",
       " 'Shallow Fog',\n",
       " 'Shallow Fog',\n",
       " 'Unknown',\n",
       " 'Shallow Fog',\n",
       " 'Shallow Fog',\n",
       " 'Shallow Fog',\n",
       " 'Shallow Fog',\n",
       " 'Mostly Cloudy',\n",
       " 'Mostly Cloudy',\n",
       " 'Mostly Cloudy',\n",
       " 'Mostly Cloudy',\n",
       " 'Mostly Cloudy',\n",
       " 'Mostly Cloudy',\n",
       " 'Mostly Cloudy']"
      ]
     },
     "execution_count": 24,
     "metadata": {},
     "output_type": "execute_result"
    }
   ],
   "source": [
    "states_train[0]"
   ]
  },
  {
   "cell_type": "code",
   "execution_count": 25,
   "metadata": {},
   "outputs": [
    {
     "data": {
      "text/plain": [
       "42"
      ]
     },
     "execution_count": 25,
     "metadata": {},
     "output_type": "execute_result"
    }
   ],
   "source": [
    "len(observations_train)"
   ]
  },
  {
   "cell_type": "code",
   "execution_count": null,
   "metadata": {},
   "outputs": [
    {
     "name": "stderr",
     "output_type": "stream",
     "text": [
      "c:\\dev\\data_mining\\.venv\\lib\\site-packages\\mchmm\\_hmm.py:356: RuntimeWarning: invalid value encountered in true_divide\n",
      "  ksi[i] /= ksi[i].sum()\n",
      "c:\\dev\\data_mining\\.venv\\lib\\site-packages\\mchmm\\_hmm.py:369: RuntimeWarning: invalid value encountered in true_divide\n",
      "  ].sum(axis=0) / gamma.sum(axis=0)\n"
     ]
    }
   ],
   "source": [
    "import time\n",
    "\n",
    "t1 = time.time()\n",
    "hmm.HiddenMarkovModel().from_baum_welch(observations_train[0], states=a.states, obs=a.observations, tp=a.tp, ep=a.ep, pi=list(a.pi))\n",
    "time() - t1"
   ]
  },
  {
   "cell_type": "code",
   "execution_count": null,
   "metadata": {},
   "outputs": [],
   "source": [
    "import time\n",
    "\n",
    "t1 = time.time()\n",
    "\n",
    "for i in range(2):\n",
    "    a = hmm.HiddenMarkovModel().from_baum_welch(observations_train[i], states=a.states, obs=a.observations, tp=a.tp, ep=a.ep, pi=list(a.pi))\n",
    "    \n",
    "time.time() - t1"
   ]
  }
 ],
 "metadata": {
  "kernelspec": {
   "display_name": "Python 3",
   "language": "python",
   "name": "python3"
  },
  "language_info": {
   "codemirror_mode": {
    "name": "ipython",
    "version": 3
   },
   "file_extension": ".py",
   "mimetype": "text/x-python",
   "name": "python",
   "nbconvert_exporter": "python",
   "pygments_lexer": "ipython3",
   "version": "3.7.4"
  }
 },
 "nbformat": 4,
 "nbformat_minor": 4
}

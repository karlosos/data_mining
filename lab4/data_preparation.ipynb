{
 "cells": [
  {
   "cell_type": "markdown",
   "metadata": {},
   "source": [
    "# Przygotowanie danych do łańcuchów markowa\n",
    "\n",
    "Podział danych na zdania."
   ]
  },
  {
   "cell_type": "code",
   "execution_count": 94,
   "metadata": {},
   "outputs": [],
   "source": [
    "import numpy as np\n",
    "f = open('data/morawiecki2017.txt')\n",
    "expose = ''.join(f.readlines())"
   ]
  },
  {
   "cell_type": "code",
   "execution_count": 97,
   "metadata": {},
   "outputs": [],
   "source": [
    "chars_to_remove = ['+', ',', '-', ':', ';', '?', '–', '”', '„', '…', '\\n', '\\n\\n', '  ']\n",
    "for char in chars_to_remove: \n",
    "    expose = expose.replace(char, ' ')\n",
    "expose = expose.lower()"
   ]
  },
  {
   "cell_type": "code",
   "execution_count": 98,
   "metadata": {},
   "outputs": [],
   "source": [
    "sentences = expose.split('. ')\n",
    "letters = expose.split()"
   ]
  },
  {
   "cell_type": "code",
   "execution_count": 99,
   "metadata": {},
   "outputs": [],
   "source": [
    "from sklearn.model_selection import train_test_split\n",
    "\n",
    "X_train, X_test = train_test_split(sentences, test_size=0.3, random_state=42)"
   ]
  },
  {
   "cell_type": "code",
   "execution_count": 100,
   "metadata": {},
   "outputs": [
    {
     "data": {
      "text/plain": [
       "371"
      ]
     },
     "execution_count": 100,
     "metadata": {},
     "output_type": "execute_result"
    }
   ],
   "source": [
    "len(X_train)"
   ]
  },
  {
   "cell_type": "code",
   "execution_count": 101,
   "metadata": {},
   "outputs": [
    {
     "data": {
      "text/plain": [
       "159"
      ]
     },
     "execution_count": 101,
     "metadata": {},
     "output_type": "execute_result"
    }
   ],
   "source": [
    "len(X_test)"
   ]
  },
  {
   "cell_type": "code",
   "execution_count": 102,
   "metadata": {},
   "outputs": [
    {
     "data": {
      "text/plain": [
       "'nie w imię ideologii ale tam gdzie jest to uzasadnione ekonomicznie tam gdzie przyniesie to polakom korzyść a nie koszty'"
      ]
     },
     "execution_count": 102,
     "metadata": {},
     "output_type": "execute_result"
    }
   ],
   "source": [
    "X_train[0]"
   ]
  },
  {
   "cell_type": "code",
   "execution_count": 103,
   "metadata": {},
   "outputs": [
    {
     "data": {
      "text/plain": [
       "array([' ', '.', '/', '0', '1', '2', '3', '4', '5', '6', '7', '8', '9',\n",
       "       'a', 'b', 'c', 'd', 'e', 'f', 'g', 'h', 'i', 'j', 'k', 'l', 'm',\n",
       "       'n', 'o', 'p', 'r', 's', 't', 'u', 'v', 'w', 'x', 'y', 'z', 'ó',\n",
       "       'ą', 'ć', 'ę', 'ł', 'ń', 'ś', 'ź', 'ż'], dtype='<U1')"
      ]
     },
     "execution_count": 103,
     "metadata": {},
     "output_type": "execute_result"
    }
   ],
   "source": [
    "states = np.unique(list(expose))\n",
    "states"
   ]
  },
  {
   "cell_type": "code",
   "execution_count": 168,
   "metadata": {},
   "outputs": [],
   "source": [
    "A = np.zeros((states.shape[0], states.shape[0]))\n",
    "pi = np.zeros(states.shape[0])"
   ]
  },
  {
   "cell_type": "code",
   "execution_count": 169,
   "metadata": {},
   "outputs": [],
   "source": [
    "for sentence in X_train:\n",
    "    characters = list(sentence)\n",
    "    pi[np.where(states == characters[0])[0][0]] += 1\n",
    "    for i in range(1, len(characters)):\n",
    "        prev_state = np.where(states == characters[i-1])[0][0]\n",
    "        curr_state = np.where(states == characters[i])[0][0]\n",
    "        A[prev_state, curr_state] += 1"
   ]
  },
  {
   "cell_type": "code",
   "execution_count": 170,
   "metadata": {},
   "outputs": [
    {
     "data": {
      "text/plain": [
       "25"
      ]
     },
     "execution_count": 170,
     "metadata": {},
     "output_type": "execute_result"
    }
   ],
   "source": [
    "result = np.where(states == 'm')[0][0]\n",
    "result"
   ]
  },
  {
   "cell_type": "code",
   "execution_count": 171,
   "metadata": {},
   "outputs": [],
   "source": [
    "pi = pi/np.sum(pi)"
   ]
  },
  {
   "cell_type": "code",
   "execution_count": 172,
   "metadata": {},
   "outputs": [],
   "source": [
    "A = A/np.sum(A)"
   ]
  },
  {
   "cell_type": "markdown",
   "metadata": {},
   "source": [
    "Poprawka LaPlace'a"
   ]
  },
  {
   "cell_type": "code",
   "execution_count": 174,
   "metadata": {},
   "outputs": [],
   "source": [
    "A[A<1e-5] = 1e-5"
   ]
  },
  {
   "cell_type": "markdown",
   "metadata": {},
   "source": [
    "## Testowanie"
   ]
  },
  {
   "cell_type": "code",
   "execution_count": 184,
   "metadata": {},
   "outputs": [],
   "source": [
    "probas = []\n",
    "for sentence in X_test:\n",
    "    characters = list(sentence)\n",
    "    proba = pi[np.where(states == characters[0])[0][0]]\n",
    "    for i in range(1, len(characters)):\n",
    "        prev_state = np.where(states == characters[i-1])[0][0]\n",
    "        curr_state = np.where(states == characters[i])[0][0]\n",
    "        proba = proba * A[prev_state, curr_state]\n",
    "    probas.append(proba)"
   ]
  },
  {
   "cell_type": "code",
   "execution_count": 186,
   "metadata": {},
   "outputs": [
    {
     "data": {
      "text/plain": [
       "[1.4613298051373942e-272,\n",
       " 0.0,\n",
       " 2.347048633684162e-77,\n",
       " 1.9330393027239055e-192,\n",
       " 4.218846810192612e-172,\n",
       " 4.356837079760352e-138,\n",
       " 1.0638432613285e-310,\n",
       " 3.5745453545971717e-212,\n",
       " 6.087559183666001e-252,\n",
       " 0.0,\n",
       " 1.8449014326641308e-30,\n",
       " 1.875310967450136e-43,\n",
       " 0.0,\n",
       " 0.0,\n",
       " 2.1141345286451526e-205,\n",
       " 1.0820499344171959e-78,\n",
       " 7.82482730716e-313,\n",
       " 9.059325204533451e-220,\n",
       " 5.786406551580058e-88,\n",
       " 2.034073308750075e-149,\n",
       " 1.119950080099234e-59,\n",
       " 0.0,\n",
       " 3.56196629e-315,\n",
       " 5.770477763217346e-60,\n",
       " 1.9820187815582927e-209,\n",
       " 1.2404076299529377e-42,\n",
       " 5.863982918867915e-110,\n",
       " 2.623754855242464e-248,\n",
       " 8.426977190875515e-198,\n",
       " 0.0,\n",
       " 1.2441405987760564e-115,\n",
       " 1.2163604143904342e-109,\n",
       " 4.292621451475877e-211,\n",
       " 5.160371250036818e-138,\n",
       " 7.898967748090534e-233,\n",
       " 4.3258708879231935e-73,\n",
       " 1.8207031849979962e-267,\n",
       " 1.801885754900264e-171,\n",
       " 1.0285426204018143e-179,\n",
       " 2.3694509283245415e-53,\n",
       " 1.7815088945152946e-136,\n",
       " 1.260776738452496e-261,\n",
       " 1.4417641088756243e-125,\n",
       " 2.552746604864414e-155,\n",
       " 1.467003724647279e-228,\n",
       " 0.0,\n",
       " 1.7244622370435628e-123,\n",
       " 1.436428409369605e-277,\n",
       " 7.649433183682583e-143,\n",
       " 7.335345092713866e-80,\n",
       " 6.685890976349462e-159,\n",
       " 2.688318107741941e-198,\n",
       " 1.6045493129655206e-123,\n",
       " 1.8294444349841056e-257,\n",
       " 3.313922206552103e-210,\n",
       " 3.637326333017258e-247,\n",
       " 5.786447102229129e-242,\n",
       " 1.347257426108627e-247,\n",
       " 3.780723116289159e-52,\n",
       " 2.6299077629708126e-178,\n",
       " 2.1259989484503724e-118,\n",
       " 9.464596503653316e-176,\n",
       " 1.133357611872521e-50,\n",
       " 9.308113813230461e-123,\n",
       " 4.111265762727686e-186,\n",
       " 1.050803086750621e-74,\n",
       " 7.296712254528783e-214,\n",
       " 4.809216006273883e-274,\n",
       " 5.289715862082089e-45,\n",
       " 3.9532956209124138e-227,\n",
       " 1.1607025865531875e-83,\n",
       " 2.6422434664419175e-221,\n",
       " 2.1445303342493907e-205,\n",
       " 7.922422392328209e-201,\n",
       " 0.0,\n",
       " 0.0,\n",
       " 0.0,\n",
       " 0.0,\n",
       " 8.887987009366699e-242,\n",
       " 2.193056927685133e-232,\n",
       " 2.8007241501677168e-204,\n",
       " 4.6822860741784897e-38,\n",
       " 0.0,\n",
       " 1.6436316971189677e-187,\n",
       " 1.2355638812404235e-155,\n",
       " 6.2715928817723165e-15,\n",
       " 5.123720905133685e-108,\n",
       " 0.0,\n",
       " 4.186686642411566e-177,\n",
       " 0.0,\n",
       " 1.389771918662623e-285,\n",
       " 6.7915219822556125e-71,\n",
       " 1.7466121568487988e-294,\n",
       " 1.572114145127047e-154,\n",
       " 2.6792757037689542e-201,\n",
       " 0.0,\n",
       " 3.800569973494324e-222,\n",
       " 1.1472591651905153e-173,\n",
       " 0.0,\n",
       " 4.273453525277271e-130,\n",
       " 9.082230673694621e-208,\n",
       " 3.1192860200738855e-143,\n",
       " 1.218192272070765e-171,\n",
       " 2.0140743825457707e-90,\n",
       " 0.0,\n",
       " 6.56320654681234e-132,\n",
       " 6.353089564723872e-228,\n",
       " 9.792695525929145e-126,\n",
       " 6.063361394793633e-118,\n",
       " 1.762589593447838e-117,\n",
       " 2.7138777943697806e-249,\n",
       " 3.878233375464564e-242,\n",
       " 7.247269663788474e-161,\n",
       " 5.467216584593667e-177,\n",
       " 7.112348352287472e-17,\n",
       " 1.1191532728919137e-168,\n",
       " 3.532005057033091e-122,\n",
       " 1.6874792779977534e-115,\n",
       " 0.0,\n",
       " 1.2617134015143727e-264,\n",
       " 0.0,\n",
       " 4.236827369689343e-265,\n",
       " 2.2374958460268776e-205,\n",
       " 2.4e-322,\n",
       " 2.325021663360866e-200,\n",
       " 2.4303919852784944e-297,\n",
       " 4.493778634905428e-160,\n",
       " 0.0,\n",
       " 1.6642824593306307e-118,\n",
       " 0.0,\n",
       " 0.0,\n",
       " 4.663329728440038e-123,\n",
       " 1.4004697015450105e-249,\n",
       " 1.7148220856001742e-211,\n",
       " 1.7e-322,\n",
       " 6.419069366672665e-88,\n",
       " 3.4885533943172853e-258,\n",
       " 0.0,\n",
       " 1.80033140665284e-194,\n",
       " 7.463373663362864e-229,\n",
       " 1.8107572125536184e-188,\n",
       " 7.945725404680664e-180,\n",
       " 1.1374217311598525e-38,\n",
       " 3.3464436692189467e-233,\n",
       " 7.592793701789857e-277,\n",
       " 3.977364750185578e-91,\n",
       " 0.0,\n",
       " 2.1507690417873463e-190,\n",
       " 1.5377832506533512e-117,\n",
       " 5.9030938821499625e-214,\n",
       " 8.425839245200543e-98,\n",
       " 1.2920491942e-314,\n",
       " 0.0,\n",
       " 0.0,\n",
       " 3.9514531658091204e-242,\n",
       " 2.3705883259412926e-61,\n",
       " 6.217765053911847e-308,\n",
       " 1.2231995855642217e-86,\n",
       " 4.2155729868430656e-241]"
      ]
     },
     "execution_count": 186,
     "metadata": {},
     "output_type": "execute_result"
    }
   ],
   "source": [
    "probas"
   ]
  },
  {
   "cell_type": "code",
   "execution_count": null,
   "metadata": {},
   "outputs": [],
   "source": []
  }
 ],
 "metadata": {
  "kernelspec": {
   "display_name": "Python 3",
   "language": "python",
   "name": "python3"
  },
  "language_info": {
   "codemirror_mode": {
    "name": "ipython",
    "version": 3
   },
   "file_extension": ".py",
   "mimetype": "text/x-python",
   "name": "python",
   "nbconvert_exporter": "python",
   "pygments_lexer": "ipython3",
   "version": "3.7.4"
  }
 },
 "nbformat": 4,
 "nbformat_minor": 4
}

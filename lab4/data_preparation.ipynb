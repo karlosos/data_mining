{
 "cells": [
  {
   "cell_type": "markdown",
   "metadata": {},
   "source": [
    "# Przygotowanie danych do łańcuchów markowa\n",
    "\n",
    "Podział danych na zdania."
   ]
  },
  {
   "cell_type": "code",
   "execution_count": 291,
   "metadata": {},
   "outputs": [],
   "source": [
    "import numpy as np\n",
    "f = open('data/tusk2011.txt')\n",
    "expose = ''.join(f.readlines())"
   ]
  },
  {
   "cell_type": "code",
   "execution_count": 292,
   "metadata": {},
   "outputs": [],
   "source": [
    "chars_to_remove = ['+', ',', '-', ':', ';', '?', '–', '”', '„', '…', '\\n', '\\n\\n', '  ']\n",
    "for char in chars_to_remove: \n",
    "    expose = expose.replace(char, ' ')\n",
    "expose = expose.lower()"
   ]
  },
  {
   "cell_type": "code",
   "execution_count": 293,
   "metadata": {},
   "outputs": [],
   "source": [
    "sentences = expose.split('. ')\n",
    "letters = expose.split()"
   ]
  },
  {
   "cell_type": "code",
   "execution_count": 294,
   "metadata": {},
   "outputs": [],
   "source": [
    "from sklearn.model_selection import train_test_split\n",
    "\n",
    "X_train, X_test = train_test_split(sentences, test_size=0.3, random_state=42)"
   ]
  },
  {
   "cell_type": "code",
   "execution_count": 295,
   "metadata": {},
   "outputs": [
    {
     "data": {
      "text/plain": [
       "191"
      ]
     },
     "execution_count": 295,
     "metadata": {},
     "output_type": "execute_result"
    }
   ],
   "source": [
    "len(X_train)"
   ]
  },
  {
   "cell_type": "code",
   "execution_count": 296,
   "metadata": {},
   "outputs": [
    {
     "data": {
      "text/plain": [
       "82"
      ]
     },
     "execution_count": 296,
     "metadata": {},
     "output_type": "execute_result"
    }
   ],
   "source": [
    "len(X_test)"
   ]
  },
  {
   "cell_type": "code",
   "execution_count": 297,
   "metadata": {},
   "outputs": [
    {
     "data": {
      "text/plain": [
       "'tak jest'"
      ]
     },
     "execution_count": 297,
     "metadata": {},
     "output_type": "execute_result"
    }
   ],
   "source": [
    "X_train[0]"
   ]
  },
  {
   "cell_type": "code",
   "execution_count": 298,
   "metadata": {},
   "outputs": [
    {
     "data": {
      "text/plain": [
       "array([' ', '(', ')', '.', '/', '0', '1', '2', '3', '4', '5', '6', '7',\n",
       "       '8', '9', 'a', 'b', 'c', 'd', 'e', 'f', 'g', 'h', 'i', 'j', 'k',\n",
       "       'l', 'm', 'n', 'o', 'p', 'r', 's', 't', 'u', 'v', 'w', 'x', 'y',\n",
       "       'z', 'é', 'ó', 'ą', 'ć', 'ę', 'ł', 'ń', 'ś', 'ź', 'ż'], dtype='<U1')"
      ]
     },
     "execution_count": 298,
     "metadata": {},
     "output_type": "execute_result"
    }
   ],
   "source": [
    "states = np.unique(list(expose))\n",
    "states"
   ]
  },
  {
   "cell_type": "code",
   "execution_count": 299,
   "metadata": {},
   "outputs": [],
   "source": [
    "A = np.zeros((states.shape[0], states.shape[0]))\n",
    "pi = np.zeros(states.shape[0])"
   ]
  },
  {
   "cell_type": "code",
   "execution_count": 300,
   "metadata": {},
   "outputs": [],
   "source": [
    "for sentence in X_train:\n",
    "    characters = list(sentence)\n",
    "    pi[np.where(states == characters[0])[0][0]] += 1\n",
    "    for i in range(1, len(characters)):\n",
    "        prev_state = np.where(states == characters[i-1])[0][0]\n",
    "        curr_state = np.where(states == characters[i])[0][0]\n",
    "        A[prev_state, curr_state] += 1"
   ]
  },
  {
   "cell_type": "code",
   "execution_count": 301,
   "metadata": {},
   "outputs": [
    {
     "data": {
      "text/plain": [
       "27"
      ]
     },
     "execution_count": 301,
     "metadata": {},
     "output_type": "execute_result"
    }
   ],
   "source": [
    "result = np.where(states == 'm')[0][0]\n",
    "result"
   ]
  },
  {
   "cell_type": "code",
   "execution_count": 302,
   "metadata": {},
   "outputs": [],
   "source": [
    "pi = pi/np.sum(pi)"
   ]
  },
  {
   "cell_type": "code",
   "execution_count": 303,
   "metadata": {},
   "outputs": [],
   "source": [
    "A = A/np.sum(A)"
   ]
  },
  {
   "cell_type": "markdown",
   "metadata": {},
   "source": [
    "Poprawka LaPlace'a"
   ]
  },
  {
   "cell_type": "code",
   "execution_count": 304,
   "metadata": {},
   "outputs": [],
   "source": [
    "A[A<1e-5] = 1e-5"
   ]
  },
  {
   "cell_type": "code",
   "execution_count": 305,
   "metadata": {},
   "outputs": [
    {
     "data": {
      "text/plain": [
       "array([[8.62036655e-04, 1.00000000e-05, 1.00000000e-05, ...,\n",
       "        3.74798546e-04, 3.74798546e-05, 3.26074735e-03],\n",
       "       [1.00000000e-05, 1.00000000e-05, 1.00000000e-05, ...,\n",
       "        1.00000000e-05, 1.00000000e-05, 1.00000000e-05],\n",
       "       [1.00000000e-05, 1.00000000e-05, 1.00000000e-05, ...,\n",
       "        1.00000000e-05, 1.00000000e-05, 1.00000000e-05],\n",
       "       ...,\n",
       "       [3.74798546e-04, 1.00000000e-05, 1.00000000e-05, ...,\n",
       "        1.00000000e-05, 1.00000000e-05, 1.00000000e-05],\n",
       "       [3.74798546e-05, 1.00000000e-05, 1.00000000e-05, ...,\n",
       "        1.00000000e-05, 1.00000000e-05, 1.00000000e-05],\n",
       "       [1.27431506e-03, 1.00000000e-05, 1.00000000e-05, ...,\n",
       "        1.00000000e-05, 1.00000000e-05, 1.00000000e-05]])"
      ]
     },
     "execution_count": 305,
     "metadata": {},
     "output_type": "execute_result"
    }
   ],
   "source": [
    "A"
   ]
  },
  {
   "cell_type": "markdown",
   "metadata": {},
   "source": [
    "## Testowanie"
   ]
  },
  {
   "cell_type": "code",
   "execution_count": 306,
   "metadata": {},
   "outputs": [],
   "source": [
    "probas = []\n",
    "for sentence in X_test:\n",
    "    characters = list(sentence)\n",
    "    proba = pi[np.where(states == characters[0])[0][0]]\n",
    "    for i in range(1, len(characters)):\n",
    "        prev_state = np.where(states == characters[i-1])[0][0]\n",
    "        curr_state = np.where(states == characters[i])[0][0]\n",
    "        proba = proba * A[prev_state, curr_state]\n",
    "    probas.append(proba)"
   ]
  },
  {
   "cell_type": "code",
   "execution_count": 307,
   "metadata": {},
   "outputs": [
    {
     "data": {
      "text/plain": [
       "[0.0,\n",
       " 1.2358889216085613e-101,\n",
       " 5.47503761e-315,\n",
       " 1.496410565846503e-75,\n",
       " 0.0,\n",
       " 0.0,\n",
       " 0.0,\n",
       " 0.0,\n",
       " 0.0,\n",
       " 0.0,\n",
       " 0.0,\n",
       " 2.551005231739956e-146,\n",
       " 3.561982018433196e-164,\n",
       " 0.0,\n",
       " 0.0,\n",
       " 0.0,\n",
       " 0.0,\n",
       " 0.0,\n",
       " 2.55040998194224e-216,\n",
       " 0.0,\n",
       " 1.3504251971534633e-273,\n",
       " 0.0,\n",
       " 0.0,\n",
       " 1.6068623418408e-42,\n",
       " 0.0,\n",
       " 4.6666149322530376e-271,\n",
       " 1.668741932485891e-196,\n",
       " 2.572619958835774e-146,\n",
       " 6.576127603181665e-110,\n",
       " 0.0,\n",
       " 1.1655089560402666e-301,\n",
       " 0.0,\n",
       " 1.0782971574702307e-187,\n",
       " 0.0,\n",
       " 2.335381608711149e-178,\n",
       " 1.0471338056005824e-262,\n",
       " 3.2793867447927865e-157,\n",
       " 0.0,\n",
       " 5.049116959167234e-202,\n",
       " 0.0,\n",
       " 0.0,\n",
       " 0.0,\n",
       " 1.023545443890706e-270,\n",
       " 1.0621361697113633e-278,\n",
       " 0.0,\n",
       " 0.0,\n",
       " 0.0,\n",
       " 1.5627150992309638e-209,\n",
       " 8.192603374833674e-199,\n",
       " 9.384968666137921e-214,\n",
       " 1.3593440881177248e-218,\n",
       " 8.604423360363529e-270,\n",
       " 0.0,\n",
       " 1.565928491973768e-102,\n",
       " 2.659122645145195e-35,\n",
       " 0.0,\n",
       " 2.3417050546720424e-223,\n",
       " 0.0,\n",
       " 9.844511288895797e-141,\n",
       " 4.807729480310887e-309,\n",
       " 0.0,\n",
       " 1.3395299903911193e-238,\n",
       " 0.0,\n",
       " 0.0,\n",
       " 1.694959000336698e-138,\n",
       " 0.0,\n",
       " 0.0,\n",
       " 1.0318284330601896e-234,\n",
       " 1.8256239e-316,\n",
       " 4.253693235550201e-55,\n",
       " 6.277366338361838e-164,\n",
       " 5.859538729301303e-107,\n",
       " 2.141933411873256e-262,\n",
       " 2.6324123896094254e-139,\n",
       " 0.0,\n",
       " 1.737058054483786e-201,\n",
       " 2.405608459026e-312,\n",
       " 0.0,\n",
       " 6.0162429327422665e-182,\n",
       " 6.044665832487904e-150,\n",
       " 4.542182732742407e-131,\n",
       " 2.0410495578561206e-96]"
      ]
     },
     "execution_count": 307,
     "metadata": {},
     "output_type": "execute_result"
    }
   ],
   "source": [
    "probas"
   ]
  },
  {
   "cell_type": "markdown",
   "metadata": {},
   "source": [
    "## Przekształcenie danych wejściowych"
   ]
  },
  {
   "cell_type": "code",
   "execution_count": 8,
   "metadata": {},
   "outputs": [],
   "source": [
    "import numpy as np\n",
    "from sklearn.model_selection import train_test_split\n",
    "\n",
    "flatten = lambda t: [item for sublist in t for item in sublist]\n",
    "\n",
    "def preprocess_data(path):\n",
    "    f = open(path)\n",
    "    expose = ''.join(f.readlines())\n",
    "\n",
    "    chars_to_remove = ['+', ',', '-', ':', ';', '?', '–', '”', '„', '…', '\\n', '\\n\\n', '  ', '%', '(', ')', '\\xad', '/']\n",
    "    for char in chars_to_remove: \n",
    "        expose = expose.replace(char, ' ')\n",
    "    expose = expose.lower()\n",
    "\n",
    "    sentences = expose.split('. ')\n",
    "    words_in_sentences = [sentence.split() for sentence in sentences]\n",
    "    words = flatten(words_in_sentences)\n",
    "    states = np.unique(words)\n",
    "    try:\n",
    "        sentences.remove([])\n",
    "    except:\n",
    "        pass\n",
    "    \n",
    "    return words_in_sentences, states"
   ]
  },
  {
   "cell_type": "code",
   "execution_count": 10,
   "metadata": {},
   "outputs": [
    {
     "ename": "UnicodeDecodeError",
     "evalue": "'charmap' codec can't decode byte 0x81 in position 8074: character maps to <undefined>",
     "output_type": "error",
     "traceback": [
      "\u001b[1;31m---------------------------------------------------------------------------\u001b[0m",
      "\u001b[1;31mUnicodeDecodeError\u001b[0m                        Traceback (most recent call last)",
      "\u001b[1;32m<ipython-input-10-a3b1b2ae2011>\u001b[0m in \u001b[0;36m<module>\u001b[1;34m\u001b[0m\n\u001b[0;32m      1\u001b[0m \u001b[0mX_tusk\u001b[0m\u001b[1;33m,\u001b[0m \u001b[0mstates_tusk\u001b[0m \u001b[1;33m=\u001b[0m \u001b[0mpreprocess_data\u001b[0m\u001b[1;33m(\u001b[0m\u001b[1;34m'data/tusk2011.txt'\u001b[0m\u001b[1;33m)\u001b[0m\u001b[1;33m\u001b[0m\u001b[1;33m\u001b[0m\u001b[0m\n\u001b[0;32m      2\u001b[0m \u001b[1;31m#X_szydlo, states_szydlo = preprocess_data('data/szydlo2015.txt')\u001b[0m\u001b[1;33m\u001b[0m\u001b[1;33m\u001b[0m\u001b[1;33m\u001b[0m\u001b[0m\n\u001b[1;32m----> 3\u001b[1;33m \u001b[0mX_morawiecki\u001b[0m\u001b[1;33m,\u001b[0m \u001b[0mstates_morawiecki\u001b[0m \u001b[1;33m=\u001b[0m \u001b[0mpreprocess_data\u001b[0m\u001b[1;33m(\u001b[0m\u001b[1;34m'data/morawiecki2019.txt'\u001b[0m\u001b[1;33m)\u001b[0m\u001b[1;33m\u001b[0m\u001b[1;33m\u001b[0m\u001b[0m\n\u001b[0m\u001b[0;32m      4\u001b[0m \u001b[0mX_kopacz\u001b[0m\u001b[1;33m,\u001b[0m \u001b[0mstates_kopacz\u001b[0m \u001b[1;33m=\u001b[0m \u001b[0mpreprocess_data\u001b[0m\u001b[1;33m(\u001b[0m\u001b[1;34m'data/kopacz2014.txt'\u001b[0m\u001b[1;33m)\u001b[0m\u001b[1;33m\u001b[0m\u001b[1;33m\u001b[0m\u001b[0m\n",
      "\u001b[1;32m<ipython-input-8-44ca4552b339>\u001b[0m in \u001b[0;36mpreprocess_data\u001b[1;34m(path)\u001b[0m\n\u001b[0;32m      6\u001b[0m \u001b[1;32mdef\u001b[0m \u001b[0mpreprocess_data\u001b[0m\u001b[1;33m(\u001b[0m\u001b[0mpath\u001b[0m\u001b[1;33m)\u001b[0m\u001b[1;33m:\u001b[0m\u001b[1;33m\u001b[0m\u001b[1;33m\u001b[0m\u001b[0m\n\u001b[0;32m      7\u001b[0m     \u001b[0mf\u001b[0m \u001b[1;33m=\u001b[0m \u001b[0mopen\u001b[0m\u001b[1;33m(\u001b[0m\u001b[0mpath\u001b[0m\u001b[1;33m)\u001b[0m\u001b[1;33m\u001b[0m\u001b[1;33m\u001b[0m\u001b[0m\n\u001b[1;32m----> 8\u001b[1;33m     \u001b[0mexpose\u001b[0m \u001b[1;33m=\u001b[0m \u001b[1;34m''\u001b[0m\u001b[1;33m.\u001b[0m\u001b[0mjoin\u001b[0m\u001b[1;33m(\u001b[0m\u001b[0mf\u001b[0m\u001b[1;33m.\u001b[0m\u001b[0mreadlines\u001b[0m\u001b[1;33m(\u001b[0m\u001b[1;33m)\u001b[0m\u001b[1;33m)\u001b[0m\u001b[1;33m\u001b[0m\u001b[1;33m\u001b[0m\u001b[0m\n\u001b[0m\u001b[0;32m      9\u001b[0m \u001b[1;33m\u001b[0m\u001b[0m\n\u001b[0;32m     10\u001b[0m     \u001b[0mchars_to_remove\u001b[0m \u001b[1;33m=\u001b[0m \u001b[1;33m[\u001b[0m\u001b[1;34m'+'\u001b[0m\u001b[1;33m,\u001b[0m \u001b[1;34m','\u001b[0m\u001b[1;33m,\u001b[0m \u001b[1;34m'-'\u001b[0m\u001b[1;33m,\u001b[0m \u001b[1;34m':'\u001b[0m\u001b[1;33m,\u001b[0m \u001b[1;34m';'\u001b[0m\u001b[1;33m,\u001b[0m \u001b[1;34m'?'\u001b[0m\u001b[1;33m,\u001b[0m \u001b[1;34m'–'\u001b[0m\u001b[1;33m,\u001b[0m \u001b[1;34m'”'\u001b[0m\u001b[1;33m,\u001b[0m \u001b[1;34m'„'\u001b[0m\u001b[1;33m,\u001b[0m \u001b[1;34m'…'\u001b[0m\u001b[1;33m,\u001b[0m \u001b[1;34m'\\n'\u001b[0m\u001b[1;33m,\u001b[0m \u001b[1;34m'\\n\\n'\u001b[0m\u001b[1;33m,\u001b[0m \u001b[1;34m'  '\u001b[0m\u001b[1;33m,\u001b[0m \u001b[1;34m'%'\u001b[0m\u001b[1;33m,\u001b[0m \u001b[1;34m'('\u001b[0m\u001b[1;33m,\u001b[0m \u001b[1;34m')'\u001b[0m\u001b[1;33m,\u001b[0m \u001b[1;34m'\\xad'\u001b[0m\u001b[1;33m,\u001b[0m \u001b[1;34m'/'\u001b[0m\u001b[1;33m]\u001b[0m\u001b[1;33m\u001b[0m\u001b[1;33m\u001b[0m\u001b[0m\n",
      "\u001b[1;32mc:\\dev\\data_mining\\.venv\\lib\\encodings\\cp1250.py\u001b[0m in \u001b[0;36mdecode\u001b[1;34m(self, input, final)\u001b[0m\n\u001b[0;32m     21\u001b[0m \u001b[1;32mclass\u001b[0m \u001b[0mIncrementalDecoder\u001b[0m\u001b[1;33m(\u001b[0m\u001b[0mcodecs\u001b[0m\u001b[1;33m.\u001b[0m\u001b[0mIncrementalDecoder\u001b[0m\u001b[1;33m)\u001b[0m\u001b[1;33m:\u001b[0m\u001b[1;33m\u001b[0m\u001b[1;33m\u001b[0m\u001b[0m\n\u001b[0;32m     22\u001b[0m     \u001b[1;32mdef\u001b[0m \u001b[0mdecode\u001b[0m\u001b[1;33m(\u001b[0m\u001b[0mself\u001b[0m\u001b[1;33m,\u001b[0m \u001b[0minput\u001b[0m\u001b[1;33m,\u001b[0m \u001b[0mfinal\u001b[0m\u001b[1;33m=\u001b[0m\u001b[1;32mFalse\u001b[0m\u001b[1;33m)\u001b[0m\u001b[1;33m:\u001b[0m\u001b[1;33m\u001b[0m\u001b[1;33m\u001b[0m\u001b[0m\n\u001b[1;32m---> 23\u001b[1;33m         \u001b[1;32mreturn\u001b[0m \u001b[0mcodecs\u001b[0m\u001b[1;33m.\u001b[0m\u001b[0mcharmap_decode\u001b[0m\u001b[1;33m(\u001b[0m\u001b[0minput\u001b[0m\u001b[1;33m,\u001b[0m\u001b[0mself\u001b[0m\u001b[1;33m.\u001b[0m\u001b[0merrors\u001b[0m\u001b[1;33m,\u001b[0m\u001b[0mdecoding_table\u001b[0m\u001b[1;33m)\u001b[0m\u001b[1;33m[\u001b[0m\u001b[1;36m0\u001b[0m\u001b[1;33m]\u001b[0m\u001b[1;33m\u001b[0m\u001b[1;33m\u001b[0m\u001b[0m\n\u001b[0m\u001b[0;32m     24\u001b[0m \u001b[1;33m\u001b[0m\u001b[0m\n\u001b[0;32m     25\u001b[0m \u001b[1;32mclass\u001b[0m \u001b[0mStreamWriter\u001b[0m\u001b[1;33m(\u001b[0m\u001b[0mCodec\u001b[0m\u001b[1;33m,\u001b[0m\u001b[0mcodecs\u001b[0m\u001b[1;33m.\u001b[0m\u001b[0mStreamWriter\u001b[0m\u001b[1;33m)\u001b[0m\u001b[1;33m:\u001b[0m\u001b[1;33m\u001b[0m\u001b[1;33m\u001b[0m\u001b[0m\n",
      "\u001b[1;31mUnicodeDecodeError\u001b[0m: 'charmap' codec can't decode byte 0x81 in position 8074: character maps to <undefined>"
     ]
    }
   ],
   "source": [
    "X_tusk, states_tusk = preprocess_data('data/tusk2011.txt')\n",
    "X_szydlo, states_szydlo = preprocess_data('data/szydlo2015.txt')\n",
    "X_morawiecki, states_morawiecki = preprocess_data('data/morawiecki2019.txt')\n",
    "X_kopacz, states_kopacz = preprocess_data('data/kopacz2014.txt')"
   ]
  },
  {
   "cell_type": "code",
   "execution_count": 310,
   "metadata": {},
   "outputs": [],
   "source": [
    "states = list(set(states_szydlo).union(set(states_tusk)).union(set(states_morawiecki)).union(set(states_kopacz)))"
   ]
  },
  {
   "cell_type": "code",
   "execution_count": 311,
   "metadata": {},
   "outputs": [],
   "source": [
    "X_train_tusk, X_test_tusk = train_test_split(X_tusk, test_size=0.3, random_state=42)\n",
    "X_train_szydlo, X_test_szydlo = train_test_split(X_szydlo, test_size=0.3, random_state=42)\n",
    "X_train_morawiecki, X_test_morawiecki = train_test_split(X_morawiecki, test_size=0.3, random_state=42)\n",
    "X_train_kopacz, X_test_kopacz = train_test_split(X_kopacz, test_size=0.3, random_state=42)\n",
    "X_train_kopacz.remove([])"
   ]
  },
  {
   "cell_type": "code",
   "execution_count": 312,
   "metadata": {},
   "outputs": [],
   "source": [
    "class MarkovChain:\n",
    "    def __init__(self):\n",
    "        self.A = None\n",
    "        self.pi = None\n",
    "    \n",
    "    def fit(self, sentences, states):\n",
    "        self.A = np.zeros((len(states), len(states)))\n",
    "        self.pi = np.zeros(len(states))\n",
    "        \n",
    "        for sentence in sentences:\n",
    "            index_first_word = states.index(sentence[0])\n",
    "            self.pi[index_first_word] += 1\n",
    "            for i in range(1, len(sentence)):\n",
    "                prev_state = states.index(sentence[i-1])\n",
    "                curr_state = states.index(sentence[i])\n",
    "                self.A[prev_state, curr_state] += 1\n",
    "        self.pi = self.pi/np.sum(self.pi)\n",
    "        self.A = self.A/np.sum(self.A, axis=1, keepdims=True)\n",
    "        self.A[self.A<1e-5] = 1e-3\n",
    "\n",
    "    def predict(self, sentences):\n",
    "        probas = []\n",
    "        for sentence in sentences:\n",
    "            index_first_word = states.index(sentence[0])\n",
    "            proba = self.pi[index_first_word]\n",
    "            \n",
    "            for i in range(1, len(sentence)):\n",
    "                prev_state = states.index(sentence[i-1])\n",
    "                curr_state = states.index(sentence[i])\n",
    "                proba = proba * self.A[prev_state, curr_state]\n",
    "            probas.append(proba)\n",
    "        return probas"
   ]
  },
  {
   "cell_type": "code",
   "execution_count": 313,
   "metadata": {},
   "outputs": [],
   "source": [
    "mc_tusk = MarkovChain()\n",
    "mc_tusk.fit(X_train_tusk, states)"
   ]
  },
  {
   "cell_type": "code",
   "execution_count": 314,
   "metadata": {},
   "outputs": [],
   "source": [
    "mc_szydlo = MarkovChain()\n",
    "mc_szydlo.fit(X_train_szydlo, states)"
   ]
  },
  {
   "cell_type": "code",
   "execution_count": 315,
   "metadata": {},
   "outputs": [],
   "source": [
    "mc_morawiecki = MarkovChain()\n",
    "mc_morawiecki.fit(X_train_morawiecki, states)"
   ]
  },
  {
   "cell_type": "code",
   "execution_count": 316,
   "metadata": {},
   "outputs": [],
   "source": [
    "mc_kopacz = MarkovChain()\n",
    "mc_kopacz.fit(X_train_kopacz, states)"
   ]
  },
  {
   "cell_type": "code",
   "execution_count": 317,
   "metadata": {},
   "outputs": [
    {
     "data": {
      "text/plain": [
       "[6.003879367027405e-106,\n",
       " 0.0,\n",
       " 0.0,\n",
       " 4.784688995215311e-15,\n",
       " 0.0,\n",
       " 0.0,\n",
       " 0.0,\n",
       " 0.0,\n",
       " 1.5067465195695659e-127,\n",
       " 7.533732597847831e-143,\n",
       " 6.380318137117326e-73,\n",
       " 0.0,\n",
       " 0.0,\n",
       " 0.0,\n",
       " 0.0,\n",
       " 0.0,\n",
       " 4.253545424744887e-147,\n",
       " 2.372447902575575e-219,\n",
       " 5.084685435935506e-30,\n",
       " 0.0,\n",
       " 0.0,\n",
       " 3.001939683513703e-90,\n",
       " 8.507090849489768e-145,\n",
       " 7.457538639372076e-14,\n",
       " 0.0,\n",
       " 1.8643846598430188e-47,\n",
       " 0.0,\n",
       " 4.784688995215312e-33,\n",
       " 0.0,\n",
       " 0.0,\n",
       " 2.1267727123724416e-55,\n",
       " 0.0,\n",
       " 0.0,\n",
       " 0.0,\n",
       " 0.0,\n",
       " 1.2007758734054806e-54,\n",
       " 0.0,\n",
       " 0.0,\n",
       " 0.0,\n",
       " 1.6948951453118365e-99,\n",
       " 6.0038793670274035e-115,\n",
       " 0.0,\n",
       " 2.3923444976076564e-44,\n",
       " 7.656381764540787e-60,\n",
       " 1.694895145311836e-72,\n",
       " 0.0,\n",
       " 4.253545424744884e-97,\n",
       " 0.0,\n",
       " 0.0,\n",
       " 0.0,\n",
       " 0.0,\n",
       " 0.0,\n",
       " 0.0,\n",
       " 2.3923444976076557e-20,\n",
       " 0.0,\n",
       " 5.3373946849789793e-104,\n",
       " 1.8715599868877486e-41,\n",
       " 2.087754154266505e-109,\n",
       " 0.0,\n",
       " 3.3897902906236724e-65,\n",
       " 0.0,\n",
       " 4.253545424744883e-49,\n",
       " 0.0,\n",
       " 2.2413228677812953e-162,\n",
       " 8.474475726559177e-21,\n",
       " 0.0,\n",
       " 3.389790290623674e-132,\n",
       " 3.389790290623672e-39,\n",
       " 0.0,\n",
       " 0.0,\n",
       " 9.569377990430624e-27,\n",
       " 9.569377990430622e-18,\n",
       " 1.8011638101082207e-48,\n",
       " 0.0,\n",
       " 0.0,\n",
       " 0.0,\n",
       " 1.9138755980861252e-53,\n",
       " 2.392344497607657e-101,\n",
       " 0.0,\n",
       " 0.0,\n",
       " 4.784688995215311e-18,\n",
       " 0.0]"
      ]
     },
     "execution_count": 317,
     "metadata": {},
     "output_type": "execute_result"
    }
   ],
   "source": [
    "mc_kopacz.predict(X_test_tusk)"
   ]
  },
  {
   "cell_type": "code",
   "execution_count": 318,
   "metadata": {},
   "outputs": [],
   "source": [
    "def classify(sentences):\n",
    "    morawiecki_score = np.mean(mc_morawiecki.predict(sentences))\n",
    "    tusk_score = np.mean(mc_tusk.predict(sentences))\n",
    "    szydlo_score = np.mean(mc_szydlo.predict(sentences))\n",
    "    kopacz_score = np.mean(mc_kopacz.predict(sentences))\n",
    "    labels = ['morawiecki', 'tusk', 'szydlo', 'kopacz']\n",
    "    scores = np.array([morawiecki_score, tusk_score, szydlo_score, kopacz_score])\n",
    "    best = np.argmin(scores)\n",
    "    return labels[best]"
   ]
  },
  {
   "cell_type": "code",
   "execution_count": 319,
   "metadata": {},
   "outputs": [
    {
     "data": {
      "text/plain": [
       "'szydlo'"
      ]
     },
     "execution_count": 319,
     "metadata": {},
     "output_type": "execute_result"
    }
   ],
   "source": [
    "classify(X_test_morawiecki)"
   ]
  },
  {
   "cell_type": "code",
   "execution_count": 320,
   "metadata": {},
   "outputs": [
    {
     "data": {
      "text/plain": [
       "'kopacz'"
      ]
     },
     "execution_count": 320,
     "metadata": {},
     "output_type": "execute_result"
    }
   ],
   "source": [
    "classify(X_test_tusk)"
   ]
  },
  {
   "cell_type": "code",
   "execution_count": 321,
   "metadata": {},
   "outputs": [
    {
     "data": {
      "text/plain": [
       "'kopacz'"
      ]
     },
     "execution_count": 321,
     "metadata": {},
     "output_type": "execute_result"
    }
   ],
   "source": [
    "classify(X_test_szydlo)"
   ]
  },
  {
   "cell_type": "code",
   "execution_count": 322,
   "metadata": {},
   "outputs": [
    {
     "data": {
      "text/plain": [
       "'szydlo'"
      ]
     },
     "execution_count": 322,
     "metadata": {},
     "output_type": "execute_result"
    }
   ],
   "source": [
    "classify(X_test_kopacz)"
   ]
  },
  {
   "cell_type": "code",
   "execution_count": null,
   "metadata": {},
   "outputs": [],
   "source": []
  },
  {
   "cell_type": "code",
   "execution_count": 1,
   "metadata": {},
   "outputs": [],
   "source": [
    "import numpy as np\n",
    "\n",
    "A = np.array([[1, 2, 3], [2, 1, 0], [1, 0, 1]])"
   ]
  },
  {
   "cell_type": "code",
   "execution_count": 7,
   "metadata": {},
   "outputs": [
    {
     "data": {
      "text/plain": [
       "array([[0.16666667, 0.33333333, 0.5       ],\n",
       "       [0.66666667, 0.33333333, 0.        ],\n",
       "       [0.5       , 0.        , 0.5       ]])"
      ]
     },
     "execution_count": 7,
     "metadata": {},
     "output_type": "execute_result"
    }
   ],
   "source": []
  },
  {
   "cell_type": "code",
   "execution_count": null,
   "metadata": {},
   "outputs": [],
   "source": []
  }
 ],
 "metadata": {
  "kernelspec": {
   "display_name": "Python 3",
   "language": "python",
   "name": "python3"
  },
  "language_info": {
   "codemirror_mode": {
    "name": "ipython",
    "version": 3
   },
   "file_extension": ".py",
   "mimetype": "text/x-python",
   "name": "python",
   "nbconvert_exporter": "python",
   "pygments_lexer": "ipython3",
   "version": "3.7.4"
  }
 },
 "nbformat": 4,
 "nbformat_minor": 4
}

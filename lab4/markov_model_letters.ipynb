{
 "cells": [
  {
   "cell_type": "markdown",
   "metadata": {},
   "source": [
    "# Łańcuch Markowa - stan to litera"
   ]
  },
  {
   "cell_type": "markdown",
   "metadata": {},
   "source": [
    "## Przygotowanie bazy"
   ]
  },
  {
   "cell_type": "code",
   "execution_count": 9,
   "metadata": {},
   "outputs": [],
   "source": [
    "import numpy as np\n",
    "from sklearn.model_selection import train_test_split\n",
    "from itertools import chain\n",
    "\n",
    "flatten = lambda t: [item for sublist in t for item in sublist]\n",
    "\n",
    "def preprocess_data(path, label):\n",
    "    f = open(path, encoding=\"utf8\")\n",
    "    expose = ''.join(f.readlines())\n",
    "\n",
    "    chars_to_remove = ['+', ',', '-', ':', ';', '?', '–', '”', '„', '…', '\\n', '\\n\\n', '  ', '%', '(', ')', '\\xad', '/']\n",
    "    for char in chars_to_remove: \n",
    "        expose = expose.replace(char, ' ')\n",
    "    expose = expose.lower()\n",
    "\n",
    "    sentences = expose.split('. ')\n",
    "    chars_in_sentences = np.array([list(chain.from_iterable(sentence)) for sentence in sentences], dtype=object)\n",
    "    \n",
    "    X = np.reshape(chars_in_sentences, (-1, 1))\n",
    "    y = np.ones(X.shape) * label\n",
    "    data = np.hstack((X, y))\n",
    "    \n",
    "    return X, y"
   ]
  },
  {
   "cell_type": "code",
   "execution_count": 10,
   "metadata": {},
   "outputs": [],
   "source": [
    "X_tusk, y_tusk = preprocess_data('data/tusk2011.txt', 0)\n",
    "X_szydlo, y_szydlo = preprocess_data('data/szydlo2015.txt', 1)\n",
    "X_morawiecki, y_morawiecki = preprocess_data('data/morawiecki2019.txt', 2)\n",
    "X_kopacz, y_kopacz = preprocess_data('data/kopacz2014.txt', 3)"
   ]
  },
  {
   "cell_type": "code",
   "execution_count": 11,
   "metadata": {},
   "outputs": [],
   "source": [
    "X = np.vstack((X_tusk, X_szydlo, X_morawiecki, X_kopacz))\n",
    "y = np.vstack((y_tusk, y_szydlo, y_morawiecki, y_kopacz))"
   ]
  },
  {
   "cell_type": "code",
   "execution_count": 15,
   "metadata": {},
   "outputs": [],
   "source": [
    "characters = flatten(flatten(X))\n",
    "states = np.unique(characters).tolist()"
   ]
  },
  {
   "cell_type": "code",
   "execution_count": 16,
   "metadata": {},
   "outputs": [],
   "source": [
    "from sklearn.model_selection import train_test_split\n",
    "X_train, X_test, y_train, y_test = train_test_split(X, y, test_size=0.3, random_state=42)"
   ]
  },
  {
   "cell_type": "markdown",
   "metadata": {},
   "source": [
    "## Klasyfikator gdzie stany modelu Markowa to litery"
   ]
  },
  {
   "cell_type": "code",
   "execution_count": 17,
   "metadata": {},
   "outputs": [],
   "source": [
    "class MarkovChain:\n",
    "    def __init__(self, X, states):\n",
    "        self.A = np.zeros((len(states), len(states)))\n",
    "        self.pi = np.zeros(len(states))\n",
    "        self.states = states\n",
    "        print(f\"MarkovChain created from {X.shape}\")\n",
    "        \n",
    "        for sentence in X:\n",
    "            if sentence == []:\n",
    "                continue\n",
    "            index_first_word = states.index(sentence[0])\n",
    "            self.pi[index_first_word] += 1\n",
    "            for i in range(1, len(sentence)):\n",
    "                prev_state = states.index(sentence[i-1])\n",
    "                curr_state = states.index(sentence[i])\n",
    "                self.A[prev_state, curr_state] += 1\n",
    "        self.pi = self.pi/np.sum(self.pi)\n",
    "        self.A[self.A<1e-4] = 1e-4\n",
    "        self.pi[self.pi<1e-4] = 1e-4\n",
    "        self.A = self.A/np.sum(self.A, axis=1, keepdims=True)\n",
    "        self.A[self.A<1e-4] = 1e-4\n",
    "        self.pi[self.pi<1e-4] = 1e-4\n",
    "        \n",
    "    def predict_proba(self, X):\n",
    "        probas = []\n",
    "        for index in range(X.shape[0]):\n",
    "            sentence = X[index, 0]\n",
    "            if sentence == []:\n",
    "                continue\n",
    "            proba = 0\n",
    "            index_first_word = self.states.index(sentence[0])\n",
    "            first_char_proba = np.log(self.pi[index_first_word])\n",
    "            if first_char_proba != 0:\n",
    "                proba = proba + first_char_proba\n",
    "            \n",
    "            for i in range(1, len(sentence)):\n",
    "                prev_state = self.states.index(sentence[i-1])\n",
    "                curr_state = self.states.index(sentence[i])\n",
    "                transition_proba = self.A[prev_state, curr_state]\n",
    "                if transition_proba != 0:\n",
    "                    proba = proba + np.log(transition_proba)\n",
    "            probas.append(proba)\n",
    "        return probas"
   ]
  },
  {
   "cell_type": "code",
   "execution_count": 18,
   "metadata": {},
   "outputs": [],
   "source": [
    "from sklearn.base import BaseEstimator, ClassifierMixin\n",
    "\n",
    "class MarkovClassifier(BaseEstimator, ClassifierMixin):\n",
    "    def __init__(self, states=None):\n",
    "        self.markov_chains = {}\n",
    "        self.states = states\n",
    "        self.classes_ = None\n",
    "        \n",
    "    def fit(self, X, y):\n",
    "        if self.states is None:\n",
    "            # prepare states\n",
    "            words = flatten(flatten(X))\n",
    "            self.states = np.unique(words).tolist()\n",
    "        \n",
    "        # prepare models\n",
    "        self.classes_ = np.unique(y)\n",
    "        for label in self.classes_:\n",
    "            self.markov_chains[label] = MarkovChain(X[y == label], self.states)\n",
    "        \n",
    "        print(self.markov_chains)\n",
    "    \n",
    "    def predict_probas(self, X):\n",
    "        probas = np.zeros((X.shape[0], len(self.markov_chains)))\n",
    "        for idx, label in enumerate(self.classes_):\n",
    "            probas[:, idx] = self.markov_chains[label].predict_proba(X)\n",
    "        return probas\n",
    "    \n",
    "    def predict(self, X):\n",
    "        return np.argmax(self.predict_probas(X), axis=1)"
   ]
  },
  {
   "cell_type": "markdown",
   "metadata": {},
   "source": [
    "## Testowanie klasyfikatora"
   ]
  },
  {
   "cell_type": "code",
   "execution_count": 19,
   "metadata": {},
   "outputs": [
    {
     "name": "stdout",
     "output_type": "stream",
     "text": [
      "MarkovChain created from (194,)\n",
      "MarkovChain created from (304,)\n",
      "MarkovChain created from (420,)\n",
      "MarkovChain created from (217,)\n",
      "{0.0: <__main__.MarkovChain object at 0x0000025895102788>, 1.0: <__main__.MarkovChain object at 0x0000025894FC31C8>, 2.0: <__main__.MarkovChain object at 0x000002589513A748>, 3.0: <__main__.MarkovChain object at 0x000002588671CC08>}\n"
     ]
    }
   ],
   "source": [
    "mc = MarkovClassifier(states)\n",
    "mc.fit(X_train, y_train)"
   ]
  },
  {
   "cell_type": "code",
   "execution_count": 20,
   "metadata": {},
   "outputs": [],
   "source": [
    "y_pred = mc.predict(X_test)"
   ]
  },
  {
   "cell_type": "code",
   "execution_count": 21,
   "metadata": {},
   "outputs": [
    {
     "data": {
      "text/plain": [
       "array([[52, 10,  7, 10],\n",
       "       [25, 79, 23, 29],\n",
       "       [22, 40, 78, 29],\n",
       "       [18, 18, 16, 31]], dtype=int64)"
      ]
     },
     "execution_count": 21,
     "metadata": {},
     "output_type": "execute_result"
    }
   ],
   "source": [
    "from sklearn.metrics import confusion_matrix\n",
    "conf_matrix = confusion_matrix(y_test, y_pred)\n",
    "conf_matrix"
   ]
  },
  {
   "cell_type": "code",
   "execution_count": 22,
   "metadata": {},
   "outputs": [
    {
     "data": {
      "text/plain": [
       "<sklearn.metrics._plot.confusion_matrix.ConfusionMatrixDisplay at 0x25883fbbd08>"
      ]
     },
     "execution_count": 22,
     "metadata": {},
     "output_type": "execute_result"
    },
    {
     "data": {
      "image/png": "[encoded data removed]",
      "text/plain": [
       "<Figure size 432x288 with 2 Axes>"
      ]
     },
     "metadata": {
      "needs_background": "light"
     },
     "output_type": "display_data"
    }
   ],
   "source": [
    "from sklearn.metrics import plot_confusion_matrix\n",
    "plot_confusion_matrix(mc, X_test, y_test)"
   ]
  },
  {
   "cell_type": "code",
   "execution_count": 23,
   "metadata": {},
   "outputs": [
    {
     "data": {
      "text/plain": [
       "0.4928131416837782"
      ]
     },
     "execution_count": 23,
     "metadata": {},
     "output_type": "execute_result"
    }
   ],
   "source": [
    "from sklearn.metrics import accuracy_score\n",
    "accuracy_score(y_test, y_pred)"
   ]
  },
  {
   "cell_type": "code",
   "execution_count": 24,
   "metadata": {},
   "outputs": [
    {
     "data": {
      "text/plain": [
       "0.6582278481012658"
      ]
     },
     "execution_count": 24,
     "metadata": {},
     "output_type": "execute_result"
    }
   ],
   "source": [
    "conf_matrix[0, 0] / np.sum(conf_matrix[0, :])"
   ]
  },
  {
   "cell_type": "code",
   "execution_count": 25,
   "metadata": {},
   "outputs": [
    {
     "data": {
      "text/plain": [
       "0.5064102564102564"
      ]
     },
     "execution_count": 25,
     "metadata": {},
     "output_type": "execute_result"
    }
   ],
   "source": [
    "conf_matrix[1, 1] / np.sum(conf_matrix[1, :])"
   ]
  },
  {
   "cell_type": "code",
   "execution_count": 26,
   "metadata": {},
   "outputs": [
    {
     "data": {
      "text/plain": [
       "0.46153846153846156"
      ]
     },
     "execution_count": 26,
     "metadata": {},
     "output_type": "execute_result"
    }
   ],
   "source": [
    "conf_matrix[2, 2] / np.sum(conf_matrix[2, :])"
   ]
  },
  {
   "cell_type": "code",
   "execution_count": 27,
   "metadata": {},
   "outputs": [
    {
     "data": {
      "text/plain": [
       "0.37349397590361444"
      ]
     },
     "execution_count": 27,
     "metadata": {},
     "output_type": "execute_result"
    }
   ],
   "source": [
    "conf_matrix[3, 3] / np.sum(conf_matrix[3, :])"
   ]
  },
  {
   "cell_type": "markdown",
   "metadata": {},
   "source": [
    "## Dokładność na nieznanych danych"
   ]
  },
  {
   "cell_type": "code",
   "execution_count": 28,
   "metadata": {},
   "outputs": [],
   "source": [
    "X_morawiecki_2, y_morawiecki_2 = preprocess_data('data/morawiecki2.txt', 2)\n",
    "y_pred = mc.predict(X_test)\n",
    "\n",
    "words = flatten(flatten(X_morawiecki_2))\n",
    "states = states + np.unique(words).tolist()"
   ]
  },
  {
   "cell_type": "code",
   "execution_count": 29,
   "metadata": {},
   "outputs": [
    {
     "name": "stdout",
     "output_type": "stream",
     "text": [
      "MarkovChain created from (273,)\n",
      "MarkovChain created from (460,)\n",
      "MarkovChain created from (589,)\n",
      "MarkovChain created from (300,)\n",
      "{0.0: <__main__.MarkovChain object at 0x000002588671CC08>, 1.0: <__main__.MarkovChain object at 0x000002589513A748>, 2.0: <__main__.MarkovChain object at 0x00000258992CE908>, 3.0: <__main__.MarkovChain object at 0x00000258970EFBC8>}\n"
     ]
    }
   ],
   "source": [
    "mc = MarkovClassifier(states)\n",
    "mc.fit(X, y)"
   ]
  },
  {
   "cell_type": "code",
   "execution_count": 30,
   "metadata": {},
   "outputs": [],
   "source": [
    "y_pred = mc.predict(X_morawiecki_2)"
   ]
  },
  {
   "cell_type": "code",
   "execution_count": 31,
   "metadata": {},
   "outputs": [
    {
     "data": {
      "text/plain": [
       "array([[  0,   0,   0,   0],\n",
       "       [  0,   0,   0,   0],\n",
       "       [ 88, 133, 218,  91],\n",
       "       [  0,   0,   0,   0]], dtype=int64)"
      ]
     },
     "execution_count": 31,
     "metadata": {},
     "output_type": "execute_result"
    }
   ],
   "source": [
    "conf_matrix = confusion_matrix(y_morawiecki_2, y_pred)\n",
    "conf_matrix"
   ]
  },
  {
   "cell_type": "code",
   "execution_count": 32,
   "metadata": {},
   "outputs": [
    {
     "data": {
      "text/plain": [
       "<sklearn.metrics._plot.confusion_matrix.ConfusionMatrixDisplay at 0x258970641c8>"
      ]
     },
     "execution_count": 32,
     "metadata": {},
     "output_type": "execute_result"
    },
    {
     "data": {
      "image/png": "[encoded data removed]",
      "text/plain": [
       "<Figure size 432x288 with 2 Axes>"
      ]
     },
     "metadata": {
      "needs_background": "light"
     },
     "output_type": "display_data"
    }
   ],
   "source": [
    "plot_confusion_matrix(mc, X_morawiecki_2, y_morawiecki_2)"
   ]
  },
  {
   "cell_type": "code",
   "execution_count": 33,
   "metadata": {},
   "outputs": [
    {
     "data": {
      "text/plain": [
       "0.41132075471698115"
      ]
     },
     "execution_count": 33,
     "metadata": {},
     "output_type": "execute_result"
    }
   ],
   "source": [
    "from sklearn.metrics import accuracy_score\n",
    "accuracy_score(y_morawiecki_2, y_pred)"
   ]
  },
  {
   "cell_type": "markdown",
   "metadata": {},
   "source": [
    "## Podsumowanie\n"
   ]
  },
  {
   "cell_type": "markdown",
   "metadata": {},
   "source": [
    "Metryka | Słowa | Litery\n",
    "--------|-------|--------\n",
    "dokładność ogólna| 0.464 | 0.492\n",
    "dokładność tusk | 0.670 | 0.658\n",
    "dokładność szydlo | 0.448 | 0.506\n",
    "dokładność morawiecki | 0.414 | 0.461\n",
    "dokładność kopacz | 0.397 | 0.373\n",
    "dokładnośc morawiecki nieznany tekst | 0.341 | 0.411"
   ]
  }
 ],
 "metadata": {
  "kernelspec": {
   "display_name": "Python 3",
   "language": "python",
   "name": "python3"
  },
  "language_info": {
   "codemirror_mode": {
    "name": "ipython",
    "version": 3
   },
   "file_extension": ".py",
   "mimetype": "text/x-python",
   "name": "python",
   "nbconvert_exporter": "python",
   "pygments_lexer": "ipython3",
   "version": "3.7.4"
  }
 },
 "nbformat": 4,
 "nbformat_minor": 4
}
